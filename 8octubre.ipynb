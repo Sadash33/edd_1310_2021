{
  "nbformat": 4,
  "nbformat_minor": 0,
  "metadata": {
    "colab": {
      "name": "8octubre.ipynb",
      "provenance": [],
      "authorship_tag": "ABX9TyOoMphzueQ9KamfsMz5S/wm",
      "include_colab_link": true
    },
    "kernelspec": {
      "name": "python3",
      "display_name": "Python 3"
    }
  },
  "cells": [
    {
      "cell_type": "markdown",
      "metadata": {
        "id": "view-in-github",
        "colab_type": "text"
      },
      "source": [
        "<a href=\"https://colab.research.google.com/github/Sadash33/edd_1310_2021/blob/master/8octubre.ipynb\" target=\"_parent\"><img src=\"https://colab.research.google.com/assets/colab-badge.svg\" alt=\"Open In Colab\"/></a>"
      ]
    },
    {
      "cell_type": "code",
      "metadata": {
        "id": "bSk34h5y-2sH",
        "outputId": "fa45551f-b125-4d85-c9db-287bd0813dfd",
        "colab": {
          "base_uri": "https://localhost:8080/",
          "height": 102
        }
      },
      "source": [
        "# Preguntas listas multidimesión\n",
        "monitores =[[\"Samsung\",\"17.3 \\\"\",1024],[\"BenQ\",\"40\\\"\",2048]]\n",
        "procesadores = [[\"Intel\",\"i7\",3.4],[\"AMD\",\"razzer\",3.3],[\"Intel\",\"i3\",3.1]]\n",
        "memorias = [[\"Kingston\", \"8GB\",\"DDR4\"],[\"Kingston\", \"16GB\",\"DDR3\"],[\"ADATA\", \"32GB\",\"DDR4\"]]\n",
        "componentes = [monitores,procesadores,memorias]\n",
        "\n",
        "print(componentes[1])\n",
        "print(componentes[2][1][1])\n",
        "print(int(componentes[0][1][2])*2)\n",
        "print(componentes[1][1][1][1:4:1])\n",
        "print(componentes[2][2][0].lower())"
      ],
      "execution_count": 11,
      "outputs": [
        {
          "output_type": "stream",
          "text": [
            "[['Intel', 'i7', 3.4], ['AMD', 'razzer', 3.3], ['Intel', 'i3', 3.1]]\n",
            "16GB\n",
            "4096\n",
            "azz\n",
            "adata\n"
          ],
          "name": "stdout"
        }
      ]
    },
    {
      "cell_type": "code",
      "metadata": {
        "id": "47tko8PvJBwC",
        "outputId": "fd5c62f3-8a92-45fb-fdf3-b9c7039044b1",
        "colab": {
          "base_uri": "https://localhost:8080/",
          "height": 170
        }
      },
      "source": [
        "#Extender listas\n",
        "frutas =[\"manzana\",\"pera\"]\n",
        "otras_frutas = [\"aguacate\",\"sandia\"]\n",
        "\n",
        "# + sobre frutas (hace el cáclulo sin modificar \"frutas\")\n",
        "#frutas = frutas + otras_frutas\n",
        "#print(frutas)\n",
        "\n",
        "#Función extend (Sí modifica a \"frutas\")\n",
        "#frutas.extend(otras_frutas)\n",
        "#print(frutas)\n",
        "\n",
        "#Esto solo agrega la lista completa a la lista frutas\n",
        "frutas.append(otras_frutas)\n",
        "print(frutas)\n",
        "\n",
        "\n",
        "#Copiar listas\n",
        "colores = [\"Azul\" , \"Verde\" , \"Rojo\" , \"Violeta\"]\n",
        "otros_colores = colores #De esta manera solo se crea un \"Acceso directo\" a la lista que ya está en memoría \n",
        "print(colores)\n",
        "print(otros_colores)\n",
        "otros_colores.append(\"Rosa\")\n",
        "print(colores)\n",
        "print(otros_colores)\n",
        "\n",
        "#copy directamente crea una copia en memoria de la lista elegida\n",
        "una_mas = colores.copy()\n",
        "print(una_mas)\n",
        "una_mas.append(\"Gris\")\n",
        "print(colores)\n",
        "print(una_mas)\n",
        "\n",
        "\n",
        "#Unpacking de listas\n",
        "alumno = [\"Jesus\",\"Perez\",\"Herrera\",22,\"ICO\",10.0]\n",
        "#nombre = alumno[0]\n",
        "#paterno = alumno[1]\n",
        "#etc\n",
        "\n",
        "#Para esto, el número de valores en lista debe ser igual al número de variables en format\n",
        "nombre,paterno,materno,edad,carrera,promedio = alumno\n",
        "print(f\"Alumno:{nombre} carrera: { carrera} promedio={promedio}\")"
      ],
      "execution_count": 19,
      "outputs": [
        {
          "output_type": "stream",
          "text": [
            "['manzana', 'pera', ['aguacate', 'sandia']]\n",
            "['Azul', 'Verde', 'Rojo', 'Violeta']\n",
            "['Azul', 'Verde', 'Rojo', 'Violeta']\n",
            "['Azul', 'Verde', 'Rojo', 'Violeta', 'Rosa']\n",
            "['Azul', 'Verde', 'Rojo', 'Violeta', 'Rosa']\n",
            "['Azul', 'Verde', 'Rojo', 'Violeta', 'Rosa']\n",
            "['Azul', 'Verde', 'Rojo', 'Violeta', 'Rosa']\n",
            "['Azul', 'Verde', 'Rojo', 'Violeta', 'Rosa', 'Gris']\n",
            "Alumno:Jesus carrera: ICO promedio=10.0\n"
          ],
          "name": "stdout"
        }
      ]
    },
    {
      "cell_type": "markdown",
      "metadata": {
        "id": "1DB6lP7dR7j1"
      },
      "source": [
        "#Tuplas\n",
        "-Se declaran con ()\n",
        "-Selector con []\n",
        "-No son mutables"
      ]
    },
    {
      "cell_type": "code",
      "metadata": {
        "id": "AbkVU5azLYld",
        "outputId": "72f6d44e-7bbe-44e4-eb1c-2c78d77d976e",
        "colab": {
          "base_uri": "https://localhost:8080/",
          "height": 68
        }
      },
      "source": [
        "#Las tuplas son listas de valores constantes\n",
        "precios = (99.9 , 49.9 , 12.45 , 23.3 , 33.44 , 55.66)\n",
        "print(precios[1])\n",
        "print(precios)\n",
        "print(precios[2:4])"
      ],
      "execution_count": 22,
      "outputs": [
        {
          "output_type": "stream",
          "text": [
            "49.9\n",
            "(99.9, 49.9, 12.45, 23.3, 33.44, 55.66)\n",
            "(12.45, 23.3)\n"
          ],
          "name": "stdout"
        }
      ]
    },
    {
      "cell_type": "markdown",
      "metadata": {
        "id": "iew2JbTqTn8W"
      },
      "source": [
        "#Diccionarios\n",
        "-Se declaran con {}\n",
        "-Son mutables\n",
        "-Conjuntos de pares llave:valor\n",
        "-Equivalente a los objetos JSON de JS\n",
        "-Selector [str]"
      ]
    },
    {
      "cell_type": "code",
      "metadata": {
        "id": "vsQhpgk-UC89",
        "outputId": "5f7cee7b-8ba4-4fbe-f873-68cb1dfae785",
        "colab": {
          "base_uri": "https://localhost:8080/",
          "height": 122
        }
      },
      "source": [
        "cliente = {  }\n",
        "print(cliente)\n",
        "\n",
        "alumno = { \n",
        "          \"num_cta\" : 303030303 ,\n",
        "          \"carrera\" : \"ICO\",\n",
        "          \"promedio\" : 9.8,\n",
        "          \"materias\" :[\"EDD\",\"CyP\",\"Calidad\",\"Emprendimiento\"],\n",
        "          \"direccion\" : { \n",
        "                            \"calle\":\"rancho seco\",\n",
        "                            \"numero\" : 23 ,\n",
        "                            \"delegacion\" : \"Neza\",\n",
        "                            \"estado\" : {\n",
        "                                        \"id\" : 15 ,\n",
        "                                        \"nombre\" : \"Estado de Máxico\" ,\n",
        "                                        \"nombre_corto\" : \"EdoMex\"\n",
        "                                        } ,\n",
        "                            \"CP\":57170\n",
        "\n",
        "                        } \n",
        "          }\n",
        "\n",
        "\n",
        "print(alumno)\n",
        "print(alumno[\"materias\"])\n",
        "print(alumno[\"promedio\"])\n",
        "print(alumno[\"direccion\"][\"estado\"][\"nombre_corto\"])"
      ],
      "execution_count": 25,
      "outputs": [
        {
          "output_type": "stream",
          "text": [
            "{}\n",
            "{'num_cta': 303030303, 'carrera': 'ICO', 'promedio': 9.8, 'materias': ['EDD', 'CyP', 'Calidad', 'Emprendimiento'], 'direccion': {'calle': 'rancho seco', 'numero': 23, 'delegacion': 'Neza', 'estado': {'id': 15, 'nombre': 'Estado de Máxico', 'nombre_corto': 'EdoMex'}, 'CP': 57170}}\n",
            "['EDD', 'CyP', 'Calidad', 'Emprendimiento']\n",
            "9.8\n",
            "EdoMex\n"
          ],
          "name": "stdout"
        }
      ]
    }
  ]
}