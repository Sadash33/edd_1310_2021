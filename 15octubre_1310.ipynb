{
  "nbformat": 4,
  "nbformat_minor": 0,
  "metadata": {
    "colab": {
      "name": "15octubre_1310.ipynb",
      "provenance": [],
      "toc_visible": true,
      "authorship_tag": "ABX9TyMcpqRLv+jjdc63yKiK9KFE",
      "include_colab_link": true
    },
    "kernelspec": {
      "name": "python3",
      "display_name": "Python 3"
    }
  },
  "cells": [
    {
      "cell_type": "markdown",
      "metadata": {
        "id": "view-in-github",
        "colab_type": "text"
      },
      "source": [
        "<a href=\"https://colab.research.google.com/github/Sadash33/edd_1310_2021/blob/master/15octubre_1310.ipynb\" target=\"_parent\"><img src=\"https://colab.research.google.com/assets/colab-badge.svg\" alt=\"Open In Colab\"/></a>"
      ]
    },
    {
      "cell_type": "markdown",
      "metadata": {
        "id": "45sRGRR7B0Ey"
      },
      "source": [
        "# Módulos \n",
        "Son recursos reutilizables que contienen varias funciones que pueden ser importadas a tu código."
      ]
    },
    {
      "cell_type": "code",
      "metadata": {
        "id": "QP2drqvIBYhs",
        "outputId": "f4aef005-7cb6-43e6-c569-ffb5e9dd21d0",
        "colab": {
          "base_uri": "https://localhost:8080/",
          "height": 51
        }
      },
      "source": [
        "\"\"\"\n",
        "import mi_modulo\n",
        "\n",
        "x = mi_modulo.sumar(4, 7)\n",
        "print(x)\n",
        "print(mi_modulo.multiplicar(5, 6))\n",
        "\"\"\""
      ],
      "execution_count": 3,
      "outputs": [
        {
          "output_type": "stream",
          "text": [
            "11\n",
            "30\n"
          ],
          "name": "stdout"
        }
      ]
    },
    {
      "cell_type": "code",
      "metadata": {
        "id": "9QGpNTdFKUEb",
        "outputId": "1d746455-d403-47ba-a1c4-7bb1106c0744",
        "colab": {
          "base_uri": "https://localhost:8080/",
          "height": 34
        }
      },
      "source": [
        "from mi_modulo import sumar \n",
        "\n",
        "print(sumar(4, 7))"
      ],
      "execution_count": 4,
      "outputs": [
        {
          "output_type": "stream",
          "text": [
            "11\n"
          ],
          "name": "stdout"
        }
      ]
    },
    {
      "cell_type": "code",
      "metadata": {
        "id": "UWS3C1jHL9m4",
        "outputId": "a0f0b540-15a2-472d-ced9-8e83759ef141",
        "colab": {
          "base_uri": "https://localhost:8080/",
          "height": 51
        }
      },
      "source": [
        "from mi_modulo import sumar, dividir\n",
        "\n",
        "print(sumar(3, 2))\n",
        "print(dividir(10, 2))"
      ],
      "execution_count": 6,
      "outputs": [
        {
          "output_type": "stream",
          "text": [
            "5\n",
            "5.0\n"
          ],
          "name": "stdout"
        }
      ]
    },
    {
      "cell_type": "code",
      "metadata": {
        "id": "pcfWc4vSLPNP",
        "outputId": "60fc1534-6c51-4de7-c756-6ddb7039b1b5",
        "colab": {
          "base_uri": "https://localhost:8080/",
          "height": 34
        }
      },
      "source": [
        "# Se le puede poner un alias al modulo importado  \n",
        "import mi_modulo as patito\n",
        "\n",
        "print(patito.sumar(4, 6))"
      ],
      "execution_count": 5,
      "outputs": [
        {
          "output_type": "stream",
          "text": [
            "10\n"
          ],
          "name": "stdout"
        }
      ]
    },
    {
      "cell_type": "code",
      "metadata": {
        "id": "Ll_l78cQMXgh",
        "outputId": "090fe54d-8042-4821-ce5f-04ee41b13111",
        "colab": {
          "base_uri": "https://localhost:8080/",
          "height": 34
        }
      },
      "source": [
        "#Tambien se le puede poner alias a las funciones\n",
        "from mi_modulo import sumar as sum\n",
        "\n",
        "print(sum(3, 7))"
      ],
      "execution_count": 7,
      "outputs": [
        {
          "output_type": "stream",
          "text": [
            "10\n"
          ],
          "name": "stdout"
        }
      ]
    },
    {
      "cell_type": "code",
      "metadata": {
        "id": "arnjqf2FODuE",
        "outputId": "7b75b169-bf11-4f35-8de1-ec4c3e1652fb",
        "colab": {
          "base_uri": "https://localhost:8080/",
          "height": 35
        }
      },
      "source": [
        "from joke_generator import generate \n",
        "\n",
        "generate()"
      ],
      "execution_count": 11,
      "outputs": [
        {
          "output_type": "execute_result",
          "data": {
            "application/vnd.google.colaboratory.intrinsic+json": {
              "type": "string"
            },
            "text/plain": [
              "\"What's large, grey, and doesn't matter?\\r\\nAn irrelephant.\\r\\n\""
            ]
          },
          "metadata": {
            "tags": []
          },
          "execution_count": 11
        }
      ]
    },
    {
      "cell_type": "markdown",
      "metadata": {
        "id": "5RkE5c40SRRa"
      },
      "source": [
        "# Archivos \n",
        "- open(str, str)\n",
        " 1- Nombre o ruta del archivo \n",
        " 2-Dos caracteres \n",
        "  - Modo de apertura del archivo (r, w, a solo si el archivo existe, x solo si el archivo no existe)\n",
        "  - Formato del archivo (texto o binario)"
      ]
    },
    {
      "cell_type": "code",
      "metadata": {
        "id": "WmeDOYGdS5Bs"
      },
      "source": [
        "archivo = open(\"saludo.txt\", \"wt\")\n",
        "archivo.write(\"Hola mundo \\n Bruh\")\n",
        "archivo.close()"
      ],
      "execution_count": 12,
      "outputs": []
    },
    {
      "cell_type": "code",
      "metadata": {
        "id": "J__3_LwrUdhY",
        "outputId": "6c229781-1487-4067-e6bf-88edf8d62e3e",
        "colab": {
          "base_uri": "https://localhost:8080/",
          "height": 119
        }
      },
      "source": [
        "otro = open('./sample_data/anscombe.json', \"rt\")\n",
        "datos = otro.read()\n",
        "#print(datos)\n",
        "otro.close()\n",
        "\n",
        "arch = open(\"frutas.txt\", 'rt')\n",
        "#print(arch.readline())\n",
        "#print(arch.readline())\n",
        "#print(arch.readline())\n",
        "arch.close()\n",
        "\n",
        " # Se puede hacer lo mismo con while\n",
        "arch = open(\"frutas.txt\", 'rt')\n",
        "data = 'ppp'\n",
        "while (data != ''):\n",
        "  data = arch.readline()\n",
        "  print(data)\n",
        "arch.close()"
      ],
      "execution_count": 18,
      "outputs": [
        {
          "output_type": "stream",
          "text": [
            "Manzana, pera, kiwi, fresa, aguacate\n",
            "\n",
            "Limón, naranja\n",
            "\n",
            "Sandía, papaya\n",
            "\n"
          ],
          "name": "stdout"
        }
      ]
    },
    {
      "cell_type": "code",
      "metadata": {
        "id": "YacB1V10ZP3z",
        "outputId": "508842f9-74d3-4092-b29d-6eb6f22992b4",
        "colab": {
          "base_uri": "https://localhost:8080/",
          "height": 34
        }
      },
      "source": [
        "arch = open(\"frutas.txt\", 'rt')\n",
        "list_frutas = arch.readlines()\n",
        "print(list_frutas)\n",
        "arch.close()"
      ],
      "execution_count": 17,
      "outputs": [
        {
          "output_type": "stream",
          "text": [
            "['Manzana, pera, kiwi, fresa, aguacate\\n', 'Limón, naranja\\n', 'Sandía, papaya']\n"
          ],
          "name": "stdout"
        }
      ]
    }
  ]
}