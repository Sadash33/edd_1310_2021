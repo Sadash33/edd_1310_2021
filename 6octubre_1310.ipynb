{
  "nbformat": 4,
  "nbformat_minor": 0,
  "metadata": {
    "colab": {
      "name": "6octubre_1310",
      "provenance": [],
      "collapsed_sections": [],
      "authorship_tag": "ABX9TyMgJBCvEYkE6f+cb8kFHbcL",
      "include_colab_link": true
    },
    "kernelspec": {
      "name": "python3",
      "display_name": "Python 3"
    }
  },
  "cells": [
    {
      "cell_type": "markdown",
      "metadata": {
        "id": "view-in-github",
        "colab_type": "text"
      },
      "source": [
        "<a href=\"https://colab.research.google.com/github/Sadash33/edd_1310_2021/blob/master/6octubre_1310.ipynb\" target=\"_parent\"><img src=\"https://colab.research.google.com/assets/colab-badge.svg\" alt=\"Open In Colab\"/></a>"
      ]
    },
    {
      "cell_type": "code",
      "metadata": {
        "id": "Axfx5pDRqafg",
        "outputId": "968fe41b-b83c-4d1a-96cc-4819b90fa8ae",
        "colab": {
          "base_uri": "https://localhost:8080/",
          "height": 340
        }
      },
      "source": [
        "numeros_txt = \"    1,2, 3, 4    , 5  , 35   , 15  , 12\"\n",
        "print(numeros_txt)\n",
        "numeros_txt = numeros_txt.lstrip().split(\",\")\n",
        "print(numeros_txt)\n",
        "\n",
        "for j in range(len(numeros_txt)):\n",
        "  numeros_txt[ j ] = int(numeros_txt[j].strip())\n",
        "\n",
        "print(numeros_txt) \n",
        "\n",
        "#Función range\n",
        "#range(inicio, stop, incremento)\n",
        "\n",
        "print(range(0, 10, 3))\n",
        "rango = range(1,10,2)\n",
        "\n",
        "for x in rango:\n",
        "  print(x)\n",
        "\n",
        "# Dandole un valor inicial\n",
        "\n",
        "rango = range(10)\n",
        "for x in rango:\n",
        "  print(x)"
      ],
      "execution_count": 10,
      "outputs": [
        {
          "output_type": "stream",
          "text": [
            "    1,2, 3, 4    , 5  , 35   , 15  , 12\n",
            "['1', '2', ' 3', ' 4    ', ' 5  ', ' 35   ', ' 15  ', ' 12']\n",
            "[1, 2, 3, 4, 5, 35, 15, 12]\n",
            "range(0, 10, 3)\n",
            "1\n",
            "3\n",
            "5\n",
            "7\n",
            "9\n",
            "0\n",
            "1\n",
            "2\n",
            "3\n",
            "4\n",
            "5\n",
            "6\n",
            "7\n",
            "8\n",
            "9\n"
          ],
          "name": "stdout"
        }
      ]
    },
    {
      "cell_type": "markdown",
      "metadata": {
        "id": "DeGO6ClvxKXZ"
      },
      "source": [
        "#Listas\n",
        "- Mutables\n",
        "- Se declaran con [  ]\n",
        "- Selector [ int ]\n",
        "- Pueden ser de cualquier tipo de dato y combinado\n",
        "\n",
        "#Tuplas\n",
        "- No mutables\n",
        "- Se declaran con ()\n",
        "- Selector [ int ]\n",
        "\n",
        "#Diccionarios\n",
        "- Mutables\n",
        "- Conjunto de pares llave:valor\n",
        "- Equivalente a los objetos JSON de JS\n",
        "\n",
        "#Conjuntos\n",
        "- Representación de la teoría de conjuntos"
      ]
    },
    {
      "cell_type": "code",
      "metadata": {
        "id": "9nnD4-noyT4G",
        "outputId": "6d71833a-8684-4e2e-d2ab-6ccd2c26686f",
        "colab": {
          "base_uri": "https://localhost:8080/",
          "height": 136
        }
      },
      "source": [
        "#Lista\n",
        "\n",
        "frutas = [ \"Pera\" , \"Manzana\" , \"fresa\" , \"Kiwi\" , \"Naranja\" ]\n",
        "print(frutas)\n",
        "\n",
        "cosas = [ \"cuaderno\" , 2 , 3.1416 , True , False , [\"Rojo\" , \"Azul\"] ]\n",
        "print(cosas)\n",
        "\n",
        "#Las listas son mutables\n",
        "\n",
        "frutas[2] = \"Fresa\" #frutas[2] = frutas[2].capitalize()\n",
        "print(frutas)\n",
        "\n",
        "#Agregar a la lista\n",
        "#Append agrega un elemento al final de la lista\n",
        "frutas.append(\"Aguacate\")\n",
        "print(frutas)\n",
        "\n",
        "#Insert agrega un elemento a la lista en donde se indique en el index \"Insert(index, object)\"\n",
        "frutas.insert(2, \"Sandia\")\n",
        "print(frutas)\n",
        "\n",
        "#Concatenar listas\n",
        "fecha = [\"6\" , \"10\" , \"2020\"] #06/10/2020\n",
        "print(fecha)\n",
        "fecha_str = \"/\".join(fecha)\n",
        "print(fecha_str)"
      ],
      "execution_count": 19,
      "outputs": [
        {
          "output_type": "stream",
          "text": [
            "['Pera', 'Manzana', 'fresa', 'Kiwi', 'Naranja']\n",
            "['cuaderno', 2, 3.1416, True, False, ['Rojo', 'Azul']]\n",
            "['Pera', 'Manzana', 'Fresa', 'Kiwi', 'Naranja']\n",
            "['Pera', 'Manzana', 'Fresa', 'Kiwi', 'Naranja', 'Aguacate']\n",
            "['Pera', 'Manzana', 'Sandia', 'Fresa', 'Kiwi', 'Naranja', 'Aguacate']\n",
            "['6', '10', '2020']\n",
            "6/10/2020\n"
          ],
          "name": "stdout"
        }
      ]
    },
    {
      "cell_type": "code",
      "metadata": {
        "id": "IKcSe9LY3Xyf",
        "outputId": "0ea588ff-3ee5-4b54-8800-e455de1877d8",
        "colab": {
          "base_uri": "https://localhost:8080/",
          "height": 187
        }
      },
      "source": [
        "#Eliminar elementos \n",
        "\n",
        "cosas = [ \"cuaderno\" , 2 , 3.1416 , True , False , [\"Rojo\" , \"Azul\"] ]\n",
        "print(cosas)\n",
        "cosas.append(\"Lapiz\")\n",
        "cosas.append(\"Libro\")\n",
        "print(cosas)\n",
        "\n",
        "#pop elimina de la lista y guarda el elemento removido\n",
        "#pop elimina por defecto el último elemento de la lista \n",
        "algo = cosas.pop()\n",
        "print(cosas)\n",
        "print(algo)\n",
        "\n",
        "#pop elimina el elemento seleccionado en el index \"pop([index])\"\n",
        "algo = cosas.pop(2)\n",
        "print(cosas)\n",
        "print(algo)\n",
        "\n",
        "#remove elimina el valor seleccionado dentro de una lista (en su primera aparición)\n",
        "cosas.remove(True)\n",
        "print(cosas)\n",
        "\n",
        "#clear elimina todos los elementos de una lista\n",
        "cosas.clear()\n",
        "print(cosas)\n",
        "\n",
        "#sort ordena los elemento de una lista\n",
        "print(frutas)\n",
        "frutas.sort()\n",
        "print(frutas)"
      ],
      "execution_count": 28,
      "outputs": [
        {
          "output_type": "stream",
          "text": [
            "['cuaderno', 2, 3.1416, True, False, ['Rojo', 'Azul']]\n",
            "['cuaderno', 2, 3.1416, True, False, ['Rojo', 'Azul'], 'Lapiz', 'Libro']\n",
            "['cuaderno', 2, 3.1416, True, False, ['Rojo', 'Azul'], 'Lapiz']\n",
            "Libro\n",
            "['cuaderno', 2, True, False, ['Rojo', 'Azul'], 'Lapiz']\n",
            "3.1416\n",
            "['cuaderno', 2, False, ['Rojo', 'Azul'], 'Lapiz']\n",
            "[]\n",
            "['Aguacate', 'Fresa', 'Kiwi', 'Manzana', 'Naranja', 'Pera', 'Sandia']\n",
            "['Aguacate', 'Fresa', 'Kiwi', 'Manzana', 'Naranja', 'Pera', 'Sandia']\n"
          ],
          "name": "stdout"
        }
      ]
    },
    {
      "cell_type": "code",
      "metadata": {
        "id": "xnIa1mOO7KmO",
        "outputId": "3d4e2aad-9d5e-4758-ae94-1045f58bc60b",
        "colab": {
          "base_uri": "https://localhost:8080/",
          "height": 136
        }
      },
      "source": [
        "#Slicing\n",
        "\n",
        "cosas = [ \"cuaderno\" , 2 , 3.1416 , True , False , [\"Rojo\" , \"Azul\"] ]\n",
        "print(cosas[3:5:1])\n",
        "print(cosas)\n",
        "#Slicing en un elemento especifico dentro de la lista\n",
        "print(cosas[0][3:5:1])\n",
        "\n",
        "\n",
        "numeros = [1,2,3,4,5,6,7,8,9,10,11,12,13,14,15]\n",
        "print(numeros[8:13:1])\n",
        "\n",
        "#Sustituir rebanadas\n",
        "\n",
        "numeros[8:13:] = [-2,-2] \n",
        "print(numeros)\n",
        "\n",
        "#preguntar por existencia dentro de una lista\n",
        "print(-2 in numeros)\n",
        "print(100 in numeros)"
      ],
      "execution_count": 37,
      "outputs": [
        {
          "output_type": "stream",
          "text": [
            "[True, False]\n",
            "['cuaderno', 2, 3.1416, True, False, ['Rojo', 'Azul']]\n",
            "de\n",
            "[9, 10, 11, 12, 13]\n",
            "[1, 2, 3, 4, 5, 6, 7, 8, -2, -2, 14, 15]\n",
            "True\n",
            "False\n"
          ],
          "name": "stdout"
        }
      ]
    },
    {
      "cell_type": "markdown",
      "metadata": {
        "id": "FGLge9LH-oI1"
      },
      "source": [
        "#Listas multidimensión (listas dentro de listas)"
      ]
    },
    {
      "cell_type": "code",
      "metadata": {
        "id": "bD-ZxbSq-vqd",
        "outputId": "e5f1e78a-e762-412b-f14f-e4dfb0b10bd2",
        "colab": {
          "base_uri": "https://localhost:8080/",
          "height": 187
        }
      },
      "source": [
        "computadoras = [\"HP\" , \"Mac Book Pro 17\" , \"Mate Book\" , \"Lenovo Legion\"]\n",
        "oss = [\"Windows 10\" , \"Linux\" , \"Android\" , \"IOS\"]\n",
        "\n",
        "computo = [computadoras , oss]\n",
        "print(computo[0])\n",
        "print(computo[1])\n",
        "print(computo[0][2])\n",
        "print(computo[0][2][0:5])\n",
        "print(computo[0][3][5::-1])\n",
        "print(computo[0][3][-8::-1])\n",
        "print(\"Linux\" in computo[1])\n",
        "\n",
        "dbms = [ [\"Mysql\" , \"Open source\" , False] , [\"MS SQL Server\" , \"de paga\" , True] ]\n",
        "computo.append(dbms)\n",
        "print(computo)\n",
        "print(computo[2][0][0])\n",
        "print(computo[2][1][1])"
      ],
      "execution_count": 51,
      "outputs": [
        {
          "output_type": "stream",
          "text": [
            "['HP', 'Mac Book Pro 17', 'Mate Book', 'Lenovo Legion']\n",
            "['Windows 10', 'Linux', 'Android', 'IOS']\n",
            "Mate Book\n",
            "Mate \n",
            "ovoneL\n",
            "ovoneL\n",
            "True\n",
            "[['HP', 'Mac Book Pro 17', 'Mate Book', 'Lenovo Legion'], ['Windows 10', 'Linux', 'Android', 'IOS'], [['Mysql', 'Open source', False], ['MS SQL Server', 'de paga', True]]]\n",
            "Mysql\n",
            "de paga\n"
          ],
          "name": "stdout"
        }
      ]
    }
  ]
}