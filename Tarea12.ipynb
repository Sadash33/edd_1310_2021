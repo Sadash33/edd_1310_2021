{
  "nbformat": 4,
  "nbformat_minor": 0,
  "metadata": {
    "colab": {
      "name": "Tarea12.ipynb",
      "provenance": [],
      "authorship_tag": "ABX9TyOUeuxfxfqi5uJjjHk0eZFf",
      "include_colab_link": true
    },
    "kernelspec": {
      "name": "python3",
      "display_name": "Python 3"
    }
  },
  "cells": [
    {
      "cell_type": "markdown",
      "metadata": {
        "id": "view-in-github",
        "colab_type": "text"
      },
      "source": [
        "<a href=\"https://colab.research.google.com/github/Sadash33/edd_1310_2021/blob/master/Tarea12.ipynb\" target=\"_parent\"><img src=\"https://colab.research.google.com/assets/colab-badge.svg\" alt=\"Open In Colab\"/></a>"
      ]
    },
    {
      "cell_type": "code",
      "metadata": {
        "colab": {
          "base_uri": "https://localhost:8080/"
        },
        "id": "hkTeT9PDcZqA",
        "outputId": "cf1c408b-cd31-4855-83e1-64e9bfdb6250"
      },
      "source": [
        "class NodoArbol:\r\n",
        "  def __init__(self, value, left = None, right = None):\r\n",
        "    self.data = value\r\n",
        "    self.left = left\r\n",
        "    self.right = right\r\n",
        "\r\n",
        "def main():\r\n",
        "  arbol = NodoArbol(\"+\", NodoArbol(\"-\", NodoArbol(5, NodoArbol(4))), NodoArbol(\"*\", NodoArbol(3, NodoArbol(2))))\r\n",
        "  print(\"Prefija\")\r\n",
        "  print(arbol.data)\r\n",
        "  print(arbol.left.data)\r\n",
        "  print(arbol.left.left.data)\r\n",
        "  print(arbol.left.left.left.data)\r\n",
        "  print(arbol.right.data)\r\n",
        "  print(arbol.right.left.data)\r\n",
        "  print(arbol.right.left.left.data)\r\n",
        "\r\n",
        "def main2():\r\n",
        "  arbol = NodoArbol(\"+\", NodoArbol(\"-\", NodoArbol(5, NodoArbol(4))), NodoArbol(\"*\", NodoArbol(3, NodoArbol(2))))\r\n",
        "  print(\"Posfija\")\r\n",
        "  print(arbol.left.left.data)\r\n",
        "  print(arbol.left.left.left.data)\r\n",
        "  print(arbol.left.data)\r\n",
        "  print(arbol.right.left.data)\r\n",
        "  print(arbol.right.left.left.data)\r\n",
        "  print(arbol.right.data)\r\n",
        "  print(arbol.data)\r\n",
        "\r\n",
        "def main3():\r\n",
        "  arbol = NodoArbol(\"+\", NodoArbol(\"-\", NodoArbol(5, NodoArbol(4))), NodoArbol(\"*\", NodoArbol(3, NodoArbol(2))))\r\n",
        "  print(\"Infija\")\r\n",
        "  print(arbol.left.left.data)\r\n",
        "  print(arbol.left.data)\r\n",
        "  print(arbol.left.left.left.data)\r\n",
        "  print(arbol.data)\r\n",
        "  print(arbol.right.left.data)\r\n",
        "  print(arbol.right.data)\r\n",
        "  print(arbol.right.left.left.data)\r\n",
        "\r\n",
        "  \r\n",
        "main()\r\n",
        "print(\"-----------------------\")\r\n",
        "main2()\r\n",
        "print(\"-----------------------\")\r\n",
        "main3()"
      ],
      "execution_count": 2,
      "outputs": [
        {
          "output_type": "stream",
          "text": [
            "Prefija\n",
            "+\n",
            "-\n",
            "5\n",
            "4\n",
            "*\n",
            "3\n",
            "2\n",
            "-----------------------\n",
            "Posfija\n",
            "5\n",
            "4\n",
            "-\n",
            "3\n",
            "2\n",
            "*\n",
            "+\n",
            "-----------------------\n",
            "Infija\n",
            "5\n",
            "-\n",
            "4\n",
            "+\n",
            "3\n",
            "*\n",
            "2\n"
          ],
          "name": "stdout"
        }
      ]
    },
    {
      "cell_type": "code",
      "metadata": {
        "colab": {
          "base_uri": "https://localhost:8080/"
        },
        "id": "S95H_rV2ceuq",
        "outputId": "bb9dbcfe-44d1-4d94-8433-d171415f834b"
      },
      "source": [
        "class NodoArbol:\r\n",
        "  def __init__(self, value, left = None, right = None):\r\n",
        "    self.data = value\r\n",
        "    self.left = left\r\n",
        "    self.right = right\r\n",
        "\r\n",
        "def main():\r\n",
        "  arbol2 = NodoArbol(40, NodoArbol(30, NodoArbol(25, NodoArbol(35))), NodoArbol(50, NodoArbol(45, NodoArbol(60))))\r\n",
        "  print(\"Prefija\")\r\n",
        "  print(arbol2.data)\r\n",
        "  print(arbol2.left.data)\r\n",
        "  print(arbol2.left.left.data)\r\n",
        "  print(arbol2.left.left.left.data)\r\n",
        "  print(arbol2.right.data)\r\n",
        "  print(arbol2.right.left.data)\r\n",
        "  print(arbol2.right.left.left.data)\r\n",
        "\r\n",
        "def main2():\r\n",
        "  arbol2 = NodoArbol(40, NodoArbol(30, NodoArbol(25, NodoArbol(35))), NodoArbol(50, NodoArbol(45, NodoArbol(60))))\r\n",
        "  print(\"Posfija\")\r\n",
        "  print(arbol2.left.left.data)\r\n",
        "  print(arbol2.left.left.left.data)\r\n",
        "  print(arbol2.left.data)\r\n",
        "  print(arbol2.right.left.data)\r\n",
        "  print(arbol2.right.left.left.data)\r\n",
        "  print(arbol2.right.data)\r\n",
        "  print(arbol2.data)\r\n",
        "\r\n",
        "def main3():\r\n",
        "  arbol2 = NodoArbol(40, NodoArbol(30, NodoArbol(25, NodoArbol(35))), NodoArbol(50, NodoArbol(45, NodoArbol(60))))\r\n",
        "  print(\"Infija\")\r\n",
        "  print(arbol2.left.left.data)\r\n",
        "  print(arbol2.left.data)\r\n",
        "  print(arbol2.left.left.left.data)\r\n",
        "  print(arbol2.data)\r\n",
        "  print(arbol2.right.left.data)\r\n",
        "  print(arbol2.right.data)\r\n",
        "  print(arbol2.right.left.left.data)\r\n",
        "\r\n",
        "main()\r\n",
        "print(\"-----------------------\")\r\n",
        "main2()\r\n",
        "print(\"-----------------------\")\r\n",
        "main3()"
      ],
      "execution_count": 3,
      "outputs": [
        {
          "output_type": "stream",
          "text": [
            "Prefija\n",
            "40\n",
            "30\n",
            "25\n",
            "35\n",
            "50\n",
            "45\n",
            "60\n",
            "-----------------------\n",
            "Posfija\n",
            "25\n",
            "35\n",
            "30\n",
            "45\n",
            "60\n",
            "50\n",
            "40\n",
            "-----------------------\n",
            "Infija\n",
            "25\n",
            "30\n",
            "35\n",
            "40\n",
            "45\n",
            "50\n",
            "60\n"
          ],
          "name": "stdout"
        }
      ]
    }
  ]
}