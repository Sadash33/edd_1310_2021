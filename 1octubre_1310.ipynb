{
  "nbformat": 4,
  "nbformat_minor": 0,
  "metadata": {
    "colab": {
      "name": "1octubre_1310.ipynb",
      "provenance": [],
      "authorship_tag": "ABX9TyNfE6iu6yorRieG6wSrv1YC",
      "include_colab_link": true
    },
    "kernelspec": {
      "name": "python3",
      "display_name": "Python 3"
    }
  },
  "cells": [
    {
      "cell_type": "markdown",
      "metadata": {
        "id": "view-in-github",
        "colab_type": "text"
      },
      "source": [
        "<a href=\"https://colab.research.google.com/github/Sadash33/edd_1310_2021/blob/master/1octubre_1310.ipynb\" target=\"_parent\"><img src=\"https://colab.research.google.com/assets/colab-badge.svg\" alt=\"Open In Colab\"/></a>"
      ]
    },
    {
      "cell_type": "markdown",
      "metadata": {
        "id": "0vBezI4F7v14"
      },
      "source": [
        "## Intro Python 3\n",
        "### Variables\n",
        "Tipo dinámico \n"
      ]
    },
    {
      "cell_type": "code",
      "metadata": {
        "id": "Yi7h8gp_7LAA",
        "outputId": "f2876770-b06a-48a0-ec01-b4ac14b98b6e",
        "colab": {
          "base_uri": "https://localhost:8080/",
          "height": 187
        }
      },
      "source": [
        "escuela = (\"FES Aragón\")\n",
        "print(escuela)\n",
        "print(\"-------\")\n",
        "edad = 20\n",
        "estatura = 1.170\n",
        "fumador = False\n",
        "frase = \"\"\"\n",
        "multiples \n",
        "líneas\n",
        "y \n",
        "tipo\n",
        "de \n",
        "dato\n",
        "\"\"\"\n",
        "print(frase)\n",
        "nombre = \"josé\"\n",
        "nombre_completo = \"josé sosa cardenas\""
      ],
      "execution_count": 10,
      "outputs": [
        {
          "output_type": "stream",
          "text": [
            "FES Aragón\n",
            "-------\n",
            "\n",
            "multiples \n",
            "líneas\n",
            "y \n",
            "tipo\n",
            "de \n",
            "dato\n",
            "\n"
          ],
          "name": "stdout"
        }
      ]
    },
    {
      "cell_type": "markdown",
      "metadata": {
        "id": "FvRrk_Ck93a6"
      },
      "source": [
        "# Print\n",
        "Se puede usar con: \n",
        "comas, \n",
        "signo más +\n",
        "con format()\n",
        "con el operador f\"\""
      ]
    },
    {
      "cell_type": "code",
      "metadata": {
        "id": "d8BzyoH_-RFN",
        "outputId": "0d767723-c899-4fbd-f4fd-8124491c3c6c",
        "colab": {
          "base_uri": "https://localhost:8080/",
          "height": 34
        }
      },
      "source": [
        "# La coma genera un espacio\n",
        "print(edad, nombre)"
      ],
      "execution_count": 9,
      "outputs": [
        {
          "output_type": "stream",
          "text": [
            "20 josé\n"
          ],
          "name": "stdout"
        }
      ]
    },
    {
      "cell_type": "code",
      "metadata": {
        "id": "BD-9sxrU_LIh",
        "outputId": "f0258a0d-8bea-440e-f4b1-44f6c8e1cb73",
        "colab": {
          "base_uri": "https://localhost:8080/",
          "height": 51
        }
      },
      "source": [
        "# El + concatena variables \n",
        "print(nombre + str(edad))\n",
        "print(nombre + nombre_completo)"
      ],
      "execution_count": 12,
      "outputs": [
        {
          "output_type": "stream",
          "text": [
            "josé20\n",
            "joséjosé sosa cardenas\n"
          ],
          "name": "stdout"
        }
      ]
    },
    {
      "cell_type": "code",
      "metadata": {
        "id": "NuKAw8VpAtip",
        "outputId": "14f12ed9-997c-4fc7-8648-6bdefad86d96",
        "colab": {
          "base_uri": "https://localhost:8080/",
          "height": 68
        }
      },
      "source": [
        "# Con formato -> Su nombre es jose y su edad es de 20 años\n",
        "print(\"Su nombre es\",nombre,\"y su edad es de\",edad,\"años\")\n",
        "print(\"Su nombre es {0} y su edad es de {1} años\".format(nombre,edad))\n",
        "print(\"Su nombre es {1} y su edad es de {0} años\".format(nombre,edad))"
      ],
      "execution_count": 16,
      "outputs": [
        {
          "output_type": "stream",
          "text": [
            "Su nombre es josé y su edad es de 20 años\n",
            "Su nombre es josé y su edad es de 20 años\n",
            "Su nombre es 20 y su edad es de josé años\n"
          ],
          "name": "stdout"
        }
      ]
    },
    {
      "cell_type": "code",
      "metadata": {
        "id": "Lz7Z7ZrfB9Mz",
        "outputId": "e2295381-22e8-4f01-e824-c142254f1562",
        "colab": {
          "base_uri": "https://localhost:8080/",
          "height": 34
        }
      },
      "source": [
        "# Con formato f\"\"\"\n",
        "print(f\"Su nombre es {nombre} y su edad es de {edad} años\")"
      ],
      "execution_count": 17,
      "outputs": [
        {
          "output_type": "stream",
          "text": [
            "Su nombre es josé y su edad es de 20 años\n"
          ],
          "name": "stdout"
        }
      ]
    },
    {
      "cell_type": "markdown",
      "metadata": {
        "id": "Fja1xrXxCWH-"
      },
      "source": [
        "# Carácter de escape\n",
        "\\n Salto de línea\n",
        "\\t Tabulador\n",
        "\\a Beep al ejecutar\n",
        "\\\\\" Imprimir comilla doble\n",
        "\\\\' Imprimir comilla simple"
      ]
    },
    {
      "cell_type": "code",
      "metadata": {
        "id": "Qgb46rtpDa7j",
        "outputId": "47e5c5a2-fd41-44de-8886-c96cd9d2ccde",
        "colab": {
          "base_uri": "https://localhost:8080/",
          "height": 51
        }
      },
      "source": [
        "\"\"\"\n",
        "Comentario\n",
        "de \n",
        "múltiple\n",
        "línea\n",
        "\"\"\"\n",
        "print(f\"\\tMi nombre es\\n\\t\\t {nombre}\")"
      ],
      "execution_count": 19,
      "outputs": [
        {
          "output_type": "stream",
          "text": [
            "\tMi nombre es\n",
            "\t\t josé\n"
          ],
          "name": "stdout"
        }
      ]
    },
    {
      "cell_type": "markdown",
      "metadata": {
        "id": "JQDmAmJFD_r6"
      },
      "source": [
        "## Ayuda de tipos de dato en Python \n",
        "dir()\n",
        "help()\n"
      ]
    },
    {
      "cell_type": "code",
      "metadata": {
        "id": "KtNh2-UMEREf"
      },
      "source": [
        "# Tipos de dato: str, float, bool, ... , list, dict, set\n",
        "# Abrir help y dir en celdas únicas\n",
        "# Click derecho borrar resultados XD\n",
        "help(str)"
      ],
      "execution_count": null,
      "outputs": []
    },
    {
      "cell_type": "code",
      "metadata": {
        "id": "0prcuehxGKgW",
        "outputId": "be6aef77-aa34-434e-a5d9-cf4b724d7a33",
        "colab": {
          "base_uri": "https://localhost:8080/",
          "height": 221
        }
      },
      "source": [
        "help(print)"
      ],
      "execution_count": 25,
      "outputs": [
        {
          "output_type": "stream",
          "text": [
            "Help on built-in function print in module builtins:\n",
            "\n",
            "print(...)\n",
            "    print(value, ..., sep=' ', end='\\n', file=sys.stdout, flush=False)\n",
            "    \n",
            "    Prints the values to a stream, or to sys.stdout by default.\n",
            "    Optional keyword arguments:\n",
            "    file:  a file-like object (stream); defaults to the current sys.stdout.\n",
            "    sep:   string inserted between values, default a space.\n",
            "    end:   string appended after the last value, default a newline.\n",
            "    flush: whether to forcibly flush the stream.\n",
            "\n"
          ],
          "name": "stdout"
        }
      ]
    },
    {
      "cell_type": "code",
      "metadata": {
        "id": "tKovoJTSFXXG",
        "outputId": "3d5fc3b2-619e-4004-b81c-e28d72fba408",
        "colab": {
          "base_uri": "https://localhost:8080/",
          "height": 51
        }
      },
      "source": [
        "print(nombre_completo.capitalize())\n",
        "print(nombre_completo.upper(), end=\"-------\")\n",
        "print(nombre_completo.title())"
      ],
      "execution_count": 26,
      "outputs": [
        {
          "output_type": "stream",
          "text": [
            "José sosa cardenas\n",
            "JOSÉ SOSA CARDENAS-------José Sosa Cardenas\n"
          ],
          "name": "stdout"
        }
      ]
    },
    {
      "cell_type": "markdown",
      "metadata": {
        "id": "vZO2OL44Gs61"
      },
      "source": [
        "# Clase String\n",
        "Es manejada como un arreglo (C o Java) o lista (en Python) \n",
        "------------\n"
      ]
    },
    {
      "cell_type": "code",
      "metadata": {
        "id": "AVjAK57oH4V3",
        "outputId": "9ac542bf-8403-4938-d729-0c819e6d80e8",
        "colab": {
          "base_uri": "https://localhost:8080/",
          "height": 119
        }
      },
      "source": [
        "telefono = \"Huawei mate 30 pro\"\n",
        "print(telefono[0])\n",
        "print(telefono[1])\n",
        "print(telefono[2])\n",
        "print(telefono[3])\n",
        "print(telefono[4])\n",
        "print(telefono[5])"
      ],
      "execution_count": 28,
      "outputs": [
        {
          "output_type": "stream",
          "text": [
            "H\n",
            "u\n",
            "a\n",
            "w\n",
            "e\n",
            "i\n"
          ],
          "name": "stdout"
        }
      ]
    },
    {
      "cell_type": "markdown",
      "metadata": {
        "id": "cOBKiuv7IMgF"
      },
      "source": [
        "#Slicing\n",
        "----------\n",
        "[init:stop:incremento]\n",
        "----------\n",
        "El stop no se incluye, termina en el valor anterior al stop"
      ]
    },
    {
      "cell_type": "code",
      "metadata": {
        "id": "iCVXk9ogIes6",
        "outputId": "3abb6760-b8c3-4035-e143-a7165ec1b43f",
        "colab": {
          "base_uri": "https://localhost:8080/",
          "height": 102
        }
      },
      "source": [
        "print(telefono[7:11:1])\n",
        "# El inicio y el incremento son opcionales \n",
        "print(telefono[:11:])\n",
        "# El valor por defecto de stop es len(string)\n",
        "print(telefono[::])\n",
        "#incremento negativo\n",
        "print(telefono[::-1])\n",
        "#Indices negativos\n",
        "print(telefono[-3::1])"
      ],
      "execution_count": 33,
      "outputs": [
        {
          "output_type": "stream",
          "text": [
            "mate\n",
            "Huawei mate\n",
            "Huawei mate 30 pro\n",
            "orp 03 etam iewauH\n",
            "pro\n"
          ],
          "name": "stdout"
        }
      ]
    },
    {
      "cell_type": "markdown",
      "metadata": {
        "id": "JHFQyEX0NPJz"
      },
      "source": [
        "# Funciones de String \n",
        "Existen métodos muy útiles en esta clase "
      ]
    },
    {
      "cell_type": "code",
      "metadata": {
        "id": "Ocub5SMKNZlS",
        "outputId": "41eb076e-c99e-4181-c3cb-c9a38fb2836d",
        "colab": {
          "base_uri": "https://localhost:8080/",
          "height": 204
        }
      },
      "source": [
        "Tamaño=len(facultad)\n",
        "print(facultad)\n",
        "# count cuenta el número de carácteres\n",
        "facultad = \"    facultad de estudios superiores aragon      \"\n",
        "print(facultad.count(\"u\"))\n",
        "# find encuenta el carácter deseado \n",
        "print(facultad.find(\"s\"))\n",
        "# strip elimina espacios (al principio y al final del string) y los saltos de línea\n",
        "# lstrip y rstrip eliminan los espacios del lado izquiero y derecho respectivamente\n",
        "print(facultad.strip())\n",
        "# len cuenta los caracteres totales de la cadena \n",
        "print(len(facultad))\n",
        "# split elimina los caracteres deseados\n",
        "print(facultad)\n",
        "print(facultad.strip().split(\" \"))\n",
        "\n",
        "print(\"-----------\")\n",
        "\n",
        "# Copiar cadenas\n",
        "otra_cadena = facultad\n",
        "print(otra_cadena)\n",
        "otra_cadena = \"FES Aragón\"\n",
        "print(facultad)\n",
        "print(otra_cadena)\n"
      ],
      "execution_count": 45,
      "outputs": [
        {
          "output_type": "stream",
          "text": [
            "    facultad de estudios superiores aragon      \n",
            "3\n",
            "17\n",
            "facultad de estudios superiores aragon\n",
            "48\n",
            "    facultad de estudios superiores aragon      \n",
            "['facultad', 'de', 'estudios', 'superiores', 'aragon']\n",
            "-----------\n",
            "    facultad de estudios superiores aragon      \n",
            "    facultad de estudios superiores aragon      \n",
            "FES Aragón\n"
          ],
          "name": "stdout"
        }
      ]
    },
    {
      "cell_type": "code",
      "metadata": {
        "id": "h-Ry2RDFSzGZ",
        "outputId": "9fe07036-e5da-4764-f2f2-c458514d2e7e",
        "colab": {
          "base_uri": "https://localhost:8080/",
          "height": 85
        }
      },
      "source": [
        "# Copiar listas\n",
        "colores = [\"rojo, verde\"]\n",
        "otra = colores.copy()\n",
        "print(colores)\n",
        "print(otra)\n",
        "otra.append(\"rosa\")\n",
        "print(colores)\n",
        "print(otra)"
      ],
      "execution_count": 46,
      "outputs": [
        {
          "output_type": "stream",
          "text": [
            "['rojo, verde']\n",
            "['rojo, verde']\n",
            "['rojo, verde']\n",
            "['rojo, verde', 'rosa']\n"
          ],
          "name": "stdout"
        }
      ]
    }
  ]
}