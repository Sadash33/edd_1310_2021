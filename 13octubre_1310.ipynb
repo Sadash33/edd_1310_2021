{
  "nbformat": 4,
  "nbformat_minor": 0,
  "metadata": {
    "colab": {
      "name": "13octubre_1310.ipynb",
      "provenance": [],
      "authorship_tag": "ABX9TyMSYHR5KkXcQgqKCneB5uEu",
      "include_colab_link": true
    },
    "kernelspec": {
      "name": "python3",
      "display_name": "Python 3"
    }
  },
  "cells": [
    {
      "cell_type": "markdown",
      "metadata": {
        "id": "view-in-github",
        "colab_type": "text"
      },
      "source": [
        "<a href=\"https://colab.research.google.com/github/Sadash33/edd_1310_2021/blob/master/13octubre_1310.ipynb\" target=\"_parent\"><img src=\"https://colab.research.google.com/assets/colab-badge.svg\" alt=\"Open In Colab\"/></a>"
      ]
    },
    {
      "cell_type": "code",
      "metadata": {
        "id": "BT5A1Ys8uGyL",
        "outputId": "ba7d48d5-59de-485a-f0a9-108ad596e8d1",
        "colab": {
          "base_uri": "https://localhost:8080/",
          "height": 105
        }
      },
      "source": [
        "alumno = { \n",
        "          \"num_cta\" : 303030303 ,\n",
        "          \"carrera\" : \"ICO\",\n",
        "          \"promedio\" : 9.8,\n",
        "          \"materias\" :[\"EDD\",\"CyP\",\"Calidad\",\"Emprendimiento\"],\n",
        "          \"direccion\" : { \n",
        "                            \"calle\":\"rancho seco\",\n",
        "                            \"numero\" : 23 ,\n",
        "                            \"delegacion\" : \"Neza\",\n",
        "                            \"estado\" : {\n",
        "                                        \"id\" : 15 ,\n",
        "                                        \"nombre\" : \"Estado de Máxico\" ,\n",
        "                                        \"nombre_corto\" : \"EdoMex\"\n",
        "                                        } ,\n",
        "                            \"CP\":57170\n",
        "\n",
        "                        } \n",
        "          }\n",
        "\n",
        "print(alumno)\n",
        "alumno['carrera'] = \"Ingeniería en computación\"\n",
        "print(alumno)\n",
        "alumno['nombre_completo'] = { \"primer\" : \"Juan\" , \n",
        "                             \"segundo\" : \"Pedro\" , \n",
        "                             \"paterno\" : \"Gómez\" ,\n",
        "                             \"materno\" : \"Pérez\" \n",
        "                             }\n",
        "alumno[\"semestre\"] = 3\n",
        "print(alumno)\n",
        "\n",
        "print(f\"{alumno['nombre_completo']['primer']} {alumno['nombre_completo']['segundo']}\")"
      ],
      "execution_count": 6,
      "outputs": [
        {
          "output_type": "stream",
          "text": [
            "{'num_cta': 303030303, 'carrera': 'ICO', 'promedio': 9.8, 'materias': ['EDD', 'CyP', 'Calidad', 'Emprendimiento'], 'direccion': {'calle': 'rancho seco', 'numero': 23, 'delegacion': 'Neza', 'estado': {'id': 15, 'nombre': 'Estado de Máxico', 'nombre_corto': 'EdoMex'}, 'CP': 57170}}\n",
            "{'num_cta': 303030303, 'carrera': 'Ingeniería en computación', 'promedio': 9.8, 'materias': ['EDD', 'CyP', 'Calidad', 'Emprendimiento'], 'direccion': {'calle': 'rancho seco', 'numero': 23, 'delegacion': 'Neza', 'estado': {'id': 15, 'nombre': 'Estado de Máxico', 'nombre_corto': 'EdoMex'}, 'CP': 57170}}\n",
            "{'num_cta': 303030303, 'carrera': 'Ingeniería en computación', 'promedio': 9.8, 'materias': ['EDD', 'CyP', 'Calidad', 'Emprendimiento'], 'direccion': {'calle': 'rancho seco', 'numero': 23, 'delegacion': 'Neza', 'estado': {'id': 15, 'nombre': 'Estado de Máxico', 'nombre_corto': 'EdoMex'}, 'CP': 57170}, 'nombre_completo': {'primer': 'Juan', 'segundo': 'Pedro', 'paterno': 'Gómez', 'materno': 'Pérez'}, 'semestre': 3}\n",
            "Juan Pedro\n"
          ],
          "name": "stdout"
        }
      ]
    },
    {
      "cell_type": "code",
      "metadata": {
        "id": "VKTXG1O5x-ci",
        "outputId": "2d71d4bb-7cff-4956-83f3-574325df0020",
        "colab": {
          "base_uri": "https://localhost:8080/",
          "height": 428
        }
      },
      "source": [
        "# Keys\n",
        "# Genera una lista (wrappable) con los valores de \"llave\" del diccionario\n",
        "llaves = alumno.keys() \n",
        "print(llaves)\n",
        "\n",
        "for llave in llaves:\n",
        "    print(llave.upper())\n",
        "\n",
        "valores = alumno.values()\n",
        "for val in valores:\n",
        "    print(val)\n",
        "\n",
        "# Items\n",
        "# Regresa una lista de tuplas con los elementos llave:valor del diccionario\n",
        "pares = alumno.items()\n",
        "print(pares)\n",
        "\n",
        "for elem in pares:\n",
        "  print(f\"el campo { elem[0]} tiene el valor {elem[1]}\")"
      ],
      "execution_count": 15,
      "outputs": [
        {
          "output_type": "stream",
          "text": [
            "dict_keys(['num_cta', 'carrera', 'promedio', 'materias', 'direccion', 'nombre_completo', 'semestre'])\n",
            "NUM_CTA\n",
            "CARRERA\n",
            "PROMEDIO\n",
            "MATERIAS\n",
            "DIRECCION\n",
            "NOMBRE_COMPLETO\n",
            "SEMESTRE\n",
            "303030303\n",
            "Ingeniería en computación\n",
            "9.8\n",
            "['EDD', 'CyP', 'Calidad', 'Emprendimiento']\n",
            "{'calle': 'rancho seco', 'numero': 23, 'delegacion': 'Neza', 'estado': {'id': 15, 'nombre': 'Estado de Máxico', 'nombre_corto': 'EdoMex'}, 'CP': 57170}\n",
            "{'primer': 'Juan', 'segundo': 'Pedro', 'paterno': 'Gómez', 'materno': 'Pérez'}\n",
            "3\n",
            "dict_items([('num_cta', 303030303), ('carrera', 'Ingeniería en computación'), ('promedio', 9.8), ('materias', ['EDD', 'CyP', 'Calidad', 'Emprendimiento']), ('direccion', {'calle': 'rancho seco', 'numero': 23, 'delegacion': 'Neza', 'estado': {'id': 15, 'nombre': 'Estado de Máxico', 'nombre_corto': 'EdoMex'}, 'CP': 57170}), ('nombre_completo', {'primer': 'Juan', 'segundo': 'Pedro', 'paterno': 'Gómez', 'materno': 'Pérez'}), ('semestre', 3)])\n",
            "el campo num_cta tiene el valor 303030303\n",
            "el campo carrera tiene el valor Ingeniería en computación\n",
            "el campo promedio tiene el valor 9.8\n",
            "el campo materias tiene el valor ['EDD', 'CyP', 'Calidad', 'Emprendimiento']\n",
            "el campo direccion tiene el valor {'calle': 'rancho seco', 'numero': 23, 'delegacion': 'Neza', 'estado': {'id': 15, 'nombre': 'Estado de Máxico', 'nombre_corto': 'EdoMex'}, 'CP': 57170}\n",
            "el campo nombre_completo tiene el valor {'primer': 'Juan', 'segundo': 'Pedro', 'paterno': 'Gómez', 'materno': 'Pérez'}\n",
            "el campo semestre tiene el valor 3\n"
          ],
          "name": "stdout"
        }
      ]
    },
    {
      "cell_type": "code",
      "metadata": {
        "id": "kxUwu5td1Wyo",
        "outputId": "693efb0b-314d-4256-b926-b0e8b6404f69",
        "colab": {
          "base_uri": "https://localhost:8080/",
          "height": 34
        }
      },
      "source": [
        "# Concatenar diccionarios\n",
        "computadora = {\"procesador\" : \"Intel i7\" , \"Ram\" : \"Kingston 128GB\"}\n",
        "otros = {\"monitor\" : \"LG 49\" , \"hd\" : \"Toshiba 1TB\"}\n",
        "computadora.update(otros)\n",
        "print(computadora)"
      ],
      "execution_count": 17,
      "outputs": [
        {
          "output_type": "stream",
          "text": [
            "{'procesador': 'Intel i7', 'Ram': 'Kingston 128GB', 'monitor': 'LG 49', 'hd': 'Toshiba 1TB'}\n"
          ],
          "name": "stdout"
        }
      ]
    },
    {
      "cell_type": "markdown",
      "metadata": {
        "id": "A3wAr73D2qYT"
      },
      "source": [
        "# Funciones\n",
        "- Unidades de código reutilizable \n",
        "- Es un mecanismo de organización de código\n",
        "- Una función toma de 0 a n parametros de entrada\n",
        "- Tiene una sola salida (return) de cualquier tipo de dato \n",
        "- Se definen con la palabra reservada 'def'\n",
        "- Solo puedes hacer dos cosas:\n",
        "      - Definirla \n",
        "      - Llamarla"
      ]
    },
    {
      "cell_type": "code",
      "metadata": {
        "id": "vfDp-wgz3xXe",
        "outputId": "882aa4bd-6ac6-413f-cea2-8667d37c158a",
        "colab": {
          "base_uri": "https://localhost:8080/",
          "height": 153
        }
      },
      "source": [
        "def sumar (x,y):\n",
        "  resultado = x+y\n",
        "  return resultado\n",
        "\n",
        "def saludar(nombre):\n",
        "  print(f\"Hola {nombre}, ¿cómo estas?\")\n",
        "\n",
        "# procesar none\n",
        "\n",
        "def multiplicar(valor, veces):\n",
        "  if valor != None:\n",
        "   c = valor * veces\n",
        "  else:\n",
        "    c = \"operación no válida\"\n",
        "  return c\n",
        "\n",
        "def operacion(a, b, c): \n",
        "  res = a + (b / c)\n",
        "  return res\n",
        "\n",
        "print(sumar(10, 5))\n",
        "print(sumar(2, 6))\n",
        "saludar(\"Jesús\")\n",
        "print(multiplicar(3, 5))\n",
        "print(multiplicar(None, 5))\n",
        "print(operacion(2, 9, 3))\n",
        "print(operacion(2, 3, 9))\n",
        "print(operacion(a=2, c=3, b=9))"
      ],
      "execution_count": 28,
      "outputs": [
        {
          "output_type": "stream",
          "text": [
            "15\n",
            "8\n",
            "Hola Jesús, ¿cómo estas?\n",
            "15\n",
            "operación no válida\n",
            "5.0\n",
            "2.3333333333333335\n",
            "5.0\n"
          ],
          "name": "stdout"
        }
      ]
    },
    {
      "cell_type": "code",
      "metadata": {
        "id": "gwsliEBs-jX_",
        "outputId": "c6c63a69-ec79-4d72-a1a0-d64948170dec",
        "colab": {
          "base_uri": "https://localhost:8080/",
          "height": 272
        }
      },
      "source": [
        "# valores por defecto \n",
        "def comanda(primer, fuerte, postre=\"Galleta de animalito\"):\n",
        " print(f\"De entrada pidió {primer}\")\n",
        " print(f\"De plato fuerte {fuerte}\")\n",
        " print(f\"Postre {postre}\")\n",
        "\n",
        "# Argumentos posicionales con tuplas *\n",
        "def comanda_2(*opciones):\n",
        "  print(opciones)\n",
        "  print(f\"De entrada pidió {opciones[0]}\")\n",
        "  print(f\"De plato fuerte {opciones[1]}\")\n",
        "  print(f\"Postre {opciones[2]}\")\n",
        "  print(\"\\nIndicaciones extra:\")\n",
        "  for ind in opciones[3::]:\n",
        "    print(f\"\\t {ind}\")\n",
        "\n",
        "\n",
        "comanda(\"Sopa aguada\", \"Tortas de papa\", \"Pay de limón\") \n",
        "comanda(\"Sopa aguada\", \"Tortas de papa\")\n",
        "comanda_2(\"Sopa aguada\", \"Tortas de papa\", \"Pay de limón\", \"Las tortas bien doradas\", \"traer dos limones\", \"Agua con hielo\")"
      ],
      "execution_count": 36,
      "outputs": [
        {
          "output_type": "stream",
          "text": [
            "De entrada pidió Sopa aguada\n",
            "De plato fuerte Tortas de papa\n",
            "Postre Pay de limón\n",
            "De entrada pidió Sopa aguada\n",
            "De plato fuerte Tortas de papa\n",
            "Postre Galleta de animalito\n",
            "('Sopa aguada', 'Tortas de papa', 'Pay de limón', 'Las tortas bien doradas', 'traer dos limones', 'Agua con hielo')\n",
            "De entrada pidió Sopa aguada\n",
            "De plato fuerte Tortas de papa\n",
            "Postre Pay de limón\n",
            "\n",
            "Indicaciones extra:\n",
            "\t Las tortas bien doradas\n",
            "\t traer dos limones\n",
            "\t Agua con hielo\n"
          ],
          "name": "stdout"
        }
      ]
    },
    {
      "cell_type": "code",
      "metadata": {
        "id": "vP5_humMCMze",
        "outputId": "b2941c4f-b0f4-47d0-f719-b0c30433b20f",
        "colab": {
          "base_uri": "https://localhost:8080/",
          "height": 156
        }
      },
      "source": [
        "# Argumentos posicionales con diccionarios **\n",
        "def comanda_3(**opciones):\n",
        "  print(opciones)\n",
        "  for op in opciones.items():\n",
        "    print(f\"{op[0]} -> {op[1]}\")\n",
        "\n",
        "\n",
        "\n",
        "\n",
        "comanda_3(primer=\"Sopa aguada\", fuerte=\"Tortas de papa\", postre=\"Pay de limón\", extra1=\"Las tortas bien doradas\", extra2=\"traer dos limones\", extra3=\"Agua con hielo\")"
      ],
      "execution_count": 41,
      "outputs": [
        {
          "output_type": "stream",
          "text": [
            "{'primer': 'Sopa aguada', 'fuerte': 'Tortas de papa', 'postre': 'Pay de limón', 'extra1': 'Las tortas bien doradas', 'extra2': 'traer dos limones', 'extra3': 'Agua con hielo'}\n",
            "primer -> Sopa aguada\n",
            "fuerte -> Tortas de papa\n",
            "postre -> Pay de limón\n",
            "extra1 -> Las tortas bien doradas\n",
            "extra2 -> traer dos limones\n",
            "extra3 -> Agua con hielo\n"
          ],
          "name": "stdout"
        }
      ]
    }
  ]
}