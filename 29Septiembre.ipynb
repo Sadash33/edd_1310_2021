{
  "nbformat": 4,
  "nbformat_minor": 0,
  "metadata": {
    "colab": {
      "name": "Untitled0.ipynb",
      "provenance": [],
      "toc_visible": true,
      "authorship_tag": "ABX9TyOzNwaTk4qOkRuwh3NPNkep",
      "include_colab_link": true
    },
    "kernelspec": {
      "name": "python3",
      "display_name": "Python 3"
    }
  },
  "cells": [
    {
      "cell_type": "markdown",
      "metadata": {
        "id": "view-in-github",
        "colab_type": "text"
      },
      "source": [
        "<a href=\"https://colab.research.google.com/github/Sadash33/edd_1310_2021/blob/master/29Septiembre.ipynb\" target=\"_parent\"><img src=\"https://colab.research.google.com/assets/colab-badge.svg\" alt=\"Open In Colab\"/></a>"
      ]
    },
    {
      "cell_type": "code",
      "metadata": {
        "id": "xpKq33lpstox"
      },
      "source": [
        "edad = 10"
      ],
      "execution_count": 10,
      "outputs": []
    },
    {
      "cell_type": "code",
      "metadata": {
        "id": "juOtTBG5vjOr",
        "outputId": "e204b9bf-4b00-4d66-9eea-6d81a855201f",
        "colab": {
          "base_uri": "https://localhost:8080/",
          "height": 51
        }
      },
      "source": [
        "print (edad)\n",
        "colores = ['rojo', 'azul', 'verde', 'morado', 'violeta']\n",
        "print (colores)"
      ],
      "execution_count": 11,
      "outputs": [
        {
          "output_type": "stream",
          "text": [
            "10\n",
            "['rojo', 'azul', 'verde', 'morado', 'violeta']\n"
          ],
          "name": "stdout"
        }
      ]
    },
    {
      "cell_type": "code",
      "metadata": {
        "id": "sZKz3ogEwarZ",
        "outputId": "b6152cbd-1575-4eb2-a783-0ab0d4244b5b",
        "colab": {
          "base_uri": "https://localhost:8080/",
          "height": 34
        }
      },
      "source": [
        "print (colores [3])"
      ],
      "execution_count": 13,
      "outputs": [
        {
          "output_type": "stream",
          "text": [
            "morado\n"
          ],
          "name": "stdout"
        }
      ]
    },
    {
      "cell_type": "code",
      "metadata": {
        "id": "D5iQ35D0w8QD",
        "outputId": "93d1d32c-c97a-44cf-8138-8a0b07987d42",
        "colab": {
          "base_uri": "https://localhost:8080/",
          "height": 68
        }
      },
      "source": [
        "# Sólo mostrar \"ar\" de \"morado\"\n",
        "#Slice\n",
        "print (colores[3][2:4])\n",
        "nombre = \"Alberto\"\n",
        "print(nombre[0])\n",
        "print(nombre[0:3:1])"
      ],
      "execution_count": 15,
      "outputs": [
        {
          "output_type": "stream",
          "text": [
            "ra\n",
            "A\n",
            "Alb\n"
          ],
          "name": "stdout"
        }
      ]
    },
    {
      "cell_type": "markdown",
      "metadata": {
        "id": "CsR17cyhyVlN"
      },
      "source": [
        "# For en python\n",
        "2 variantes\n",
        "1. in range(ini, tope, incremento)\n",
        "2. in [iterador]"
      ]
    },
    {
      "cell_type": "code",
      "metadata": {
        "id": "8mygidpkyEmN",
        "outputId": "7d7b9aa0-de2c-42c6-99c3-46682166fcd0",
        "colab": {
          "base_uri": "https://localhost:8080/",
          "height": 102
        }
      },
      "source": [
        "for j in range(0,5,1):\n",
        "  print(colores[j])"
      ],
      "execution_count": 16,
      "outputs": [
        {
          "output_type": "stream",
          "text": [
            "rojo\n",
            "azul\n",
            "verde\n",
            "morado\n",
            "violeta\n"
          ],
          "name": "stdout"
        }
      ]
    },
    {
      "cell_type": "code",
      "metadata": {
        "id": "owyDAsOgz1Iz",
        "outputId": "934308bc-377e-407e-d4b9-dfb5a1abd5bc",
        "colab": {
          "base_uri": "https://localhost:8080/",
          "height": 102
        }
      },
      "source": [
        "for color in colores:\n",
        "  print(color)"
      ],
      "execution_count": 17,
      "outputs": [
        {
          "output_type": "stream",
          "text": [
            "rojo\n",
            "azul\n",
            "verde\n",
            "morado\n",
            "violeta\n"
          ],
          "name": "stdout"
        }
      ]
    },
    {
      "cell_type": "code",
      "metadata": {
        "id": "9k2zqCrb0n60",
        "outputId": "90d720a1-c0ac-4fca-809e-7b12d6f20698",
        "colab": {
          "base_uri": "https://localhost:8080/",
          "height": 136
        }
      },
      "source": [
        "for j in range(0,len(nombre),1):\n",
        "  print(nombre[j])"
      ],
      "execution_count": 19,
      "outputs": [
        {
          "output_type": "stream",
          "text": [
            "A\n",
            "l\n",
            "b\n",
            "e\n",
            "r\n",
            "t\n",
            "o\n"
          ],
          "name": "stdout"
        }
      ]
    },
    {
      "cell_type": "code",
      "metadata": {
        "id": "7YXPsBy71AHg",
        "outputId": "7b38cb65-d11c-4e83-f18b-c5e49663bc99",
        "colab": {
          "base_uri": "https://localhost:8080/",
          "height": 136
        }
      },
      "source": [
        "for vato in nombre:\n",
        "  print(vato)"
      ],
      "execution_count": 21,
      "outputs": [
        {
          "output_type": "stream",
          "text": [
            "A\n",
            "l\n",
            "b\n",
            "e\n",
            "r\n",
            "t\n",
            "o\n"
          ],
          "name": "stdout"
        }
      ]
    },
    {
      "cell_type": "markdown",
      "metadata": {
        "id": "rO9yEE_a16Rx"
      },
      "source": [
        "# Qué es Markdown\n",
        "Es un lenguaje de marcado para documentar código. El objetivo es simplificar la escritura del lenguaje HTML.\n",
        "\n",
        "**negritas**\n",
        "***\n",
        "Saltos de línea\n",
        "_____\n",
        "o \n",
        "***\n",
        "\n",
        "Más información en: [Github Cheatsheet](https://github.com/adam-p/markdown-here/wiki/Markdown-Cheatsheet)\n",
        "____\n",
        "![FES](https://upload.wikimedia.org/wikipedia/commons/5/51/Aragon_Jonhy_corel.jpg)"
      ]
    }
  ]
}