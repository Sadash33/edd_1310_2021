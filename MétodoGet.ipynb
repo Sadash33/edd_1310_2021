{
  "nbformat": 4,
  "nbformat_minor": 0,
  "metadata": {
    "colab": {
      "name": "Untitled8.ipynb",
      "provenance": [],
      "collapsed_sections": [],
      "authorship_tag": "ABX9TyPgpdCpYGKwnFYOD7ZleJzV",
      "include_colab_link": true
    },
    "kernelspec": {
      "name": "python3",
      "display_name": "Python 3"
    }
  },
  "cells": [
    {
      "cell_type": "markdown",
      "metadata": {
        "id": "view-in-github",
        "colab_type": "text"
      },
      "source": [
        "<a href=\"https://colab.research.google.com/github/Sadash33/edd_1310_2021/blob/master/Untitled8.ipynb\" target=\"_parent\"><img src=\"https://colab.research.google.com/assets/colab-badge.svg\" alt=\"Open In Colab\"/></a>"
      ]
    },
    {
      "cell_type": "code",
      "metadata": {
        "id": "7XDJwnTCdCjU",
        "colab": {
          "base_uri": "https://localhost:8080/",
          "height": 418
        },
        "outputId": "6932b9b7-7707-4033-a6ca-c0d215bf9096"
      },
      "source": [
        "class Nodo:\n",
        "    def __init__(self, value, siguiente=None):\n",
        "        self.data = value #falta encapsulamiento\n",
        "        self.siguiente = siguiente\n",
        " \n",
        "class LinkedList:\n",
        "    def __init__(self):\n",
        "        self.__head = None\n",
        " \n",
        "    def is_empty(self):\n",
        "        return self.__head == None\n",
        " \n",
        "    def append(self, value):\n",
        "        nuevo = Nodo(value)\n",
        "        if self.__head == None:# self.is_empty()\n",
        "            self.__head = nuevo\n",
        "        else:\n",
        "            curr_node = self.__head\n",
        "            while curr_node.siguiente != None:\n",
        "                curr_node = curr_node.siguiente\n",
        "            curr_node.siguiente = nuevo\n",
        " \n",
        "    def transversal(self):\n",
        "        curr_node = self.__head\n",
        "        while curr_node != None:\n",
        "            print(f\"{curr_node.data} -> \", end=\"\")\n",
        "            curr_node = curr_node.siguiente\n",
        "        print(\"\")\n",
        " \n",
        "    def tail(self):\n",
        "        curr_node = self.__head\n",
        "        while curr_node.siguiente != None:\n",
        "            curr_node = curr_node.siguiente\n",
        "        return curr_node\n",
        " \n",
        "    def remove(self, value):\n",
        "        curr_node = self.__head\n",
        "        if self.__head.data == value:\n",
        "            self.__head = self.__head.siguiente\n",
        "        else:\n",
        "            anterior = None\n",
        "            while curr_node.data != value and curr_node.siguiente != None:\n",
        "                anterior = curr_node\n",
        "                curr_node = curr_node.siguiente\n",
        "            if curr_node.data == value:\n",
        "                anterior.siguiente = curr_node.siguiente\n",
        "            else:\n",
        "                print(\"El dato no existe en la lista\")\n",
        " \n",
        "    def preppend(self, value):\n",
        "        nuevo = Nodo(value, self.__head)\n",
        "        self.__head = nuevo\n",
        " \n",
        "    def get(self, posicion=None): #por defecto regresa el último\n",
        "        contador = 0\n",
        "        curr_node = self.__head\n",
        "        if posicion == None:\n",
        "            dato = self.tail().data\n",
        "        else:\n",
        "          while contador != posicion and curr_node != None:\n",
        "            contador + 1\n",
        "            curr_node = curr_node.siguiente\n",
        "            if posicion == contador:\n",
        "              dato = curr_node.data\n",
        "            else:\n",
        "              print(\"Error\")\n",
        "        return dato\n",
        "        \n",
        "    \n",
        "\n",
        "    '''def buscar(self,item):\n",
        "    actual = self.cabeza\n",
        "    encontrado = False\n",
        "    while actual != None and not encontrado:\n",
        "        if actual.obtenerDato() == item:\n",
        "            encontrado = True\n",
        "        else:\n",
        "            actual = actual.obtenerSiguiente()\n",
        "\n",
        "    return encontrado'''\n",
        "        \n",
        " \n",
        "l = LinkedList()\n",
        "print(f\"L esta vacia? {l.is_empty()}\")\n",
        "l.append(10)\n",
        "l.append(5)\n",
        "l.append(6)\n",
        "l.append(20)\n",
        "print(f\"L esta vacia? {l.is_empty()}\")\n",
        "l.transversal()\n",
        "l.remove(10)\n",
        "l.transversal()\n",
        "l.preppend(3)\n",
        "l.transversal()\n",
        "x = l.tail()\n",
        "print(x.data)\n",
        "print(l.get(10))"
      ],
      "execution_count": 13,
      "outputs": [
        {
          "output_type": "stream",
          "text": [
            "L esta vacia? True\n",
            "L esta vacia? False\n",
            "10 -> 5 -> 6 -> 20 -> \n",
            "5 -> 6 -> 20 -> \n",
            "3 -> 5 -> 6 -> 20 -> \n",
            "20\n"
          ],
          "name": "stdout"
        },
        {
          "output_type": "error",
          "ename": "UnboundLocalError",
          "evalue": "ignored",
          "traceback": [
            "\u001b[0;31m---------------------------------------------------------------------------\u001b[0m",
            "\u001b[0;31mUnboundLocalError\u001b[0m                         Traceback (most recent call last)",
            "\u001b[0;32m<ipython-input-13-c5450b40a192>\u001b[0m in \u001b[0;36m<module>\u001b[0;34m()\u001b[0m\n\u001b[1;32m     95\u001b[0m \u001b[0mx\u001b[0m \u001b[0;34m=\u001b[0m \u001b[0ml\u001b[0m\u001b[0;34m.\u001b[0m\u001b[0mtail\u001b[0m\u001b[0;34m(\u001b[0m\u001b[0;34m)\u001b[0m\u001b[0;34m\u001b[0m\u001b[0;34m\u001b[0m\u001b[0m\n\u001b[1;32m     96\u001b[0m \u001b[0mprint\u001b[0m\u001b[0;34m(\u001b[0m\u001b[0mx\u001b[0m\u001b[0;34m.\u001b[0m\u001b[0mdata\u001b[0m\u001b[0;34m)\u001b[0m\u001b[0;34m\u001b[0m\u001b[0;34m\u001b[0m\u001b[0m\n\u001b[0;32m---> 97\u001b[0;31m \u001b[0mprint\u001b[0m\u001b[0;34m(\u001b[0m\u001b[0ml\u001b[0m\u001b[0;34m.\u001b[0m\u001b[0mget\u001b[0m\u001b[0;34m(\u001b[0m\u001b[0;36m20\u001b[0m\u001b[0;34m)\u001b[0m\u001b[0;34m)\u001b[0m\u001b[0;34m\u001b[0m\u001b[0;34m\u001b[0m\u001b[0m\n\u001b[0m",
            "\u001b[0;32m<ipython-input-13-c5450b40a192>\u001b[0m in \u001b[0;36mget\u001b[0;34m(self, posicion)\u001b[0m\n\u001b[1;32m     65\u001b[0m             \u001b[0;32melse\u001b[0m\u001b[0;34m:\u001b[0m\u001b[0;34m\u001b[0m\u001b[0;34m\u001b[0m\u001b[0m\n\u001b[1;32m     66\u001b[0m               \u001b[0;32mpass\u001b[0m\u001b[0;34m\u001b[0m\u001b[0;34m\u001b[0m\u001b[0m\n\u001b[0;32m---> 67\u001b[0;31m         \u001b[0;32mreturn\u001b[0m \u001b[0mdato\u001b[0m\u001b[0;34m\u001b[0m\u001b[0;34m\u001b[0m\u001b[0m\n\u001b[0m\u001b[1;32m     68\u001b[0m \u001b[0;34m\u001b[0m\u001b[0m\n\u001b[1;32m     69\u001b[0m \u001b[0;34m\u001b[0m\u001b[0m\n",
            "\u001b[0;31mUnboundLocalError\u001b[0m: local variable 'dato' referenced before assignment"
          ]
        }
      ]
    }
  ]
}
