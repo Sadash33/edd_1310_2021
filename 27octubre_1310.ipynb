{
  "nbformat": 4,
  "nbformat_minor": 0,
  "metadata": {
    "colab": {
      "name": "27octubre_1310.ipynb",
      "provenance": [],
      "authorship_tag": "ABX9TyMqrlS75MafcnVAS1rfMB2i",
      "include_colab_link": true
    },
    "kernelspec": {
      "name": "python3",
      "display_name": "Python 3"
    }
  },
  "cells": [
    {
      "cell_type": "markdown",
      "metadata": {
        "id": "view-in-github",
        "colab_type": "text"
      },
      "source": [
        "<a href=\"https://colab.research.google.com/github/Sadash33/edd_1310_2021/blob/master/27octubre_1310.ipynb\" target=\"_parent\"><img src=\"https://colab.research.google.com/assets/colab-badge.svg\" alt=\"Open In Colab\"/></a>"
      ]
    },
    {
      "cell_type": "code",
      "metadata": {
        "id": "UISh-b7ACGu8",
        "outputId": "03b7bbe4-2b13-48cb-cde3-09851d3efbe5",
        "colab": {
          "base_uri": "https://localhost:8080/",
          "height": 34
        }
      },
      "source": [
        "#Si a una variable o atributo de clase se le pone un doble guion bajo antes de\n",
        "#declararlo se vuelve privado. Ejemplo: __marca, __procesador\n",
        "\n",
        "class Computadora:\n",
        "    def __init__( self , m , p):\n",
        "        self.__marca = m\n",
        "        self.__procesador = p\n",
        "\n",
        "    def to_string( self ):\n",
        "        return \"Marca:\"+self.__marca+\" Procesador:\"+self.__procesador\n",
        "\n",
        "    def set_marca(self, m):\n",
        "      self.__marca = m\n",
        "\n",
        "    def get_marca(self):\n",
        "      return self.__marca\n",
        "\n",
        "    def set_procesar(self, p):\n",
        "      self.__procesador = p \n",
        "\n",
        "    def get_procesador(self):\n",
        "      return self.__procesador\n",
        "\n",
        "\n",
        "mi_pc = Computadora(\"Toshiba\",\"Intel i7\")\n",
        "mi_pc.__marca=\"HP \"\n",
        "mi_pc.set_marca(\"Hp co\")\n",
        "print(mi_pc.to_string())"
      ],
      "execution_count": 6,
      "outputs": [
        {
          "output_type": "stream",
          "text": [
            "Marca:Hp co Procesador:Intel i7\n"
          ],
          "name": "stdout"
        }
      ]
    },
    {
      "cell_type": "markdown",
      "metadata": {
        "id": "mM0tb9RDEPqu"
      },
      "source": [
        "#Encapsulamiento en Python \n",
        "- Tradicional tipo Java:\n",
        "void setAtributo ( val )\n",
        "tipo getAtributo ()\n",
        "- Estilo Python 3 \n",
        "Utilizando decoradores\n",
        "@property\n",
        "@atributo.setter\n"
      ]
    },
    {
      "cell_type": "code",
      "metadata": {
        "id": "2KJ3dwLUH8aP",
        "outputId": "d0ef09ff-9cbb-4919-f78f-4e73e41cd305",
        "colab": {
          "base_uri": "https://localhost:8080/",
          "height": 102
        }
      },
      "source": [
        "class Computadora:\n",
        "  def __init__(self, m ,p):\n",
        "    self.marca = m #Se manda a llamar al decorador @property\n",
        "    self.procesador = p\n",
        "\n",
        "\n",
        "  @property #Declara como atributo privado y funciona como método get\n",
        "  def marca(self):\n",
        "     return self.__marca\n",
        "\n",
        "  @marca.setter\n",
        "  def marca(self, m):\n",
        "    print(\"En el setter de marca\")\n",
        "    self.__marca = m\n",
        "\n",
        "  @property\n",
        "  def procesador(self):\n",
        "    return self.__procesador\n",
        "\n",
        "  @procesador.setter\n",
        "  def procesador(self, p):\n",
        "    print(\"En el setter de procesador\")\n",
        "    self.__procesador = p   \n",
        "\n",
        "  def to_string(self):\n",
        "    return \"Marca:\" + self.marca + \" Procesador:\" + self.procesador\n",
        "\n",
        "\n",
        "\n",
        "mi_pc2 = Computadora(\"Mac Book pro\", \"Intel i7\")\n",
        "print(mi_pc2.to_string())\n",
        "mi_pc2.marca = \"Dell\"\n",
        "print(mi_pc2.to_string())"
      ],
      "execution_count": 18,
      "outputs": [
        {
          "output_type": "stream",
          "text": [
            "En el setter de marca\n",
            "En el setter de procesador\n",
            "Marca:Mac Book pro Procesador:Intel i7\n",
            "En el setter de marca\n",
            "Marca:Dell Procesador:Intel i7\n"
          ],
          "name": "stdout"
        }
      ]
    },
    {
      "cell_type": "code",
      "metadata": {
        "id": "4Uz16WMaQmLB",
        "outputId": "81d74fb4-ce4e-4b6e-d0c5-af038fe16d03",
        "colab": {
          "base_uri": "https://localhost:8080/",
          "height": 85
        }
      },
      "source": [
        "#Herencia\n",
        "#Se logra pasando la clase base a la declaración \n",
        "class ServidorEmpresarial(Computadora):\n",
        "  def __init__(self):\n",
        "    print(\"Hola servidor\")\n",
        "\n",
        "server = ServidorEmpresarial()\n",
        "server.marca = \"Sun Micro Systems\"\n",
        "server.procesador = \"Intel\"\n",
        "print(server.to_string())"
      ],
      "execution_count": 19,
      "outputs": [
        {
          "output_type": "stream",
          "text": [
            "Hola servidor\n",
            "En el setter de marca\n",
            "En el setter de procesador\n",
            "Marca:Sun Micro Systems Procesador:Intel\n"
          ],
          "name": "stdout"
        }
      ]
    }
  ]
}