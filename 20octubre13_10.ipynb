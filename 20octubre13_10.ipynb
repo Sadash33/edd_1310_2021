{
  "nbformat": 4,
  "nbformat_minor": 0,
  "metadata": {
    "colab": {
      "name": "20octubre13_10.ipynb",
      "provenance": [],
      "authorship_tag": "ABX9TyP8lCTC0kPTX6dXC5rcLUbr",
      "include_colab_link": true
    },
    "kernelspec": {
      "name": "python3",
      "display_name": "Python 3"
    }
  },
  "cells": [
    {
      "cell_type": "markdown",
      "metadata": {
        "id": "view-in-github",
        "colab_type": "text"
      },
      "source": [
        "<a href=\"https://colab.research.google.com/github/Sadash33/edd_1310_2021/blob/master/20octubre13_10.ipynb\" target=\"_parent\"><img src=\"https://colab.research.google.com/assets/colab-badge.svg\" alt=\"Open In Colab\"/></a>"
      ]
    },
    {
      "cell_type": "code",
      "metadata": {
        "id": "PytxGGj8y0eG"
      },
      "source": [
        "#Solución a la tarea 2\n",
        "#Cuatro líneas para limpiar el archivo :c\n",
        "#Declarar una variable total\n",
        "archivo = open(\"numeros.txt\" , 'rt')\n",
        "for linea in archivo.readlines():\n",
        "  for trunc in linea.split(','):\n",
        "    print(int(trunc.strip()))\n",
        "  \n",
        "  "
      ],
      "execution_count": null,
      "outputs": []
    },
    {
      "cell_type": "markdown",
      "metadata": {
        "id": "uqrlyVy-2xo8"
      },
      "source": [
        "#Sintaxis del for en Python\n",
        "\n",
        "Dos versiones del for \n",
        "- Range\n",
        "- In iterator"
      ]
    },
    {
      "cell_type": "code",
      "metadata": {
        "id": "0Md4Mgvd3LO_",
        "outputId": "07209544-52fc-4b93-f7e6-dd98e4ec392b",
        "colab": {
          "base_uri": "https://localhost:8080/",
          "height": 238
        }
      },
      "source": [
        "#Range\n",
        "r = range(0, 10, 2)\n",
        "for x in r:\n",
        "  print(x)\n",
        "\n",
        "\n",
        "colores = ['rojo', 'rosa', 'azul', 'fucsia']\n",
        "\n",
        "#Útil para modificar a la lista y sus componentes\n",
        "for indice in range(0,4,1):\n",
        "  print(colores[indice])\n",
        "  colores[indice] = colores[indice].upper()\n",
        "\n",
        "\n",
        "\n",
        "#for con iterador\n",
        "#Conveniente cuando solo quieres mostrar los elementos de una lista\n",
        "for col in colores:\n",
        "  print(col)"
      ],
      "execution_count": 10,
      "outputs": [
        {
          "output_type": "stream",
          "text": [
            "0\n",
            "2\n",
            "4\n",
            "6\n",
            "8\n",
            "rojo\n",
            "rosa\n",
            "azul\n",
            "fucsia\n",
            "ROJO\n",
            "ROSA\n",
            "AZUL\n",
            "FUCSIA\n"
          ],
          "name": "stdout"
        }
      ]
    },
    {
      "cell_type": "markdown",
      "metadata": {
        "id": "-DLngshL7_Jh"
      },
      "source": [
        "#Generadores\n",
        "\n",
        "[valor for x in range(10)]"
      ]
    },
    {
      "cell_type": "code",
      "metadata": {
        "id": "BQvyeaTa8Z1F",
        "outputId": "811821e8-7591-4088-a673-001fb26d2e20",
        "colab": {
          "base_uri": "https://localhost:8080/",
          "height": 34
        }
      },
      "source": [
        "#Una matriz xd\n",
        "lista = [[0, 0, 0] for x in range(3)]\n",
        "print(lista)"
      ],
      "execution_count": 12,
      "outputs": [
        {
          "output_type": "stream",
          "text": [
            "[[0, 0, 0], [0, 0, 0], [0, 0, 0]]\n"
          ],
          "name": "stdout"
        }
      ]
    },
    {
      "cell_type": "code",
      "metadata": {
        "id": "oA8pnral-vcn",
        "outputId": "3cc06592-e797-4fed-94f2-127f3d12d607",
        "colab": {
          "base_uri": "https://localhost:8080/",
          "height": 34
        }
      },
      "source": [
        "ren = 3\n",
        "col = 3\n",
        "lista = [[0 for x in range(col)] for z in range(ren)]\n",
        "print(lista)"
      ],
      "execution_count": 14,
      "outputs": [
        {
          "output_type": "stream",
          "text": [
            "[[0, 0, 0], [0, 0, 0], [0, 0, 0]]\n"
          ],
          "name": "stdout"
        }
      ]
    },
    {
      "cell_type": "markdown",
      "metadata": {
        "id": "NX1BjFLf_N7U"
      },
      "source": [
        "#POO en Python \n",
        "- Clase\n",
        "- Creación de objetos\n",
        "- Constructor\n",
        "- Encapsulamiento \n",
        "- Métodos\n",
        "- Atributos \n",
        "- Herencia "
      ]
    },
    {
      "cell_type": "code",
      "metadata": {
        "id": "-krshM84_d7Q",
        "outputId": "f9d94be2-35a6-4736-f739-95a584bdd660",
        "colab": {
          "base_uri": "https://localhost:8080/",
          "height": 34
        }
      },
      "source": [
        "# Cada método\n",
        "class Computadora:\n",
        "  def __init__(self, m , p ):\n",
        "    self.__marca = m \n",
        "    self.__procesador = p\n",
        "  \n",
        "\n",
        "  def to_string(self):\n",
        "    return \"Marca:\" +self.__marca+ \" Procesador:\" +self.__procesador\n",
        "\n",
        "mi_pc = Computadora(\"Toshiba\", \"Intel i7\")\n",
        "mi_pc.__marca=\"HP\"\n",
        "print(mi_pc.to_string())"
      ],
      "execution_count": 24,
      "outputs": [
        {
          "output_type": "stream",
          "text": [
            "Marca:Toshiba Procesador:Intel i7\n"
          ],
          "name": "stdout"
        }
      ]
    }
  ]
}