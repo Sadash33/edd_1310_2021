{
  "nbformat": 4,
  "nbformat_minor": 0,
  "metadata": {
    "colab": {
      "name": "Tarea2.ipynb",
      "provenance": [],
      "collapsed_sections": [],
      "authorship_tag": "ABX9TyMoKDYjPm+pOglH0XGta5c2",
      "include_colab_link": true
    },
    "kernelspec": {
      "name": "python3",
      "display_name": "Python 3"
    }
  },
  "cells": [
    {
      "cell_type": "markdown",
      "metadata": {
        "id": "view-in-github",
        "colab_type": "text"
      },
      "source": [
        "<a href=\"https://colab.research.google.com/github/Sadash33/edd_1310_2021/blob/master/Tarea2.ipynb\" target=\"_parent\"><img src=\"https://colab.research.google.com/assets/colab-badge.svg\" alt=\"Open In Colab\"/></a>"
      ]
    },
    {
      "cell_type": "code",
      "metadata": {
        "id": "EA1stdPrjlnq",
        "outputId": "cb46634c-ff38-4c7a-fef4-ffc2b3a654f6",
        "colab": {
          "base_uri": "https://localhost:8080/",
          "height": 867
        }
      },
      "source": [
        "f = open(\"Datos.txt\", 'rt')\n",
        "salida = []\n",
        "with open('Datos.txt', 'r') as f:\n",
        "    lineas = [linea.strip(', ').split() for linea in f]\n",
        "\n",
        "for linea in lineas:\n",
        "    print(linea)\n",
        "\n",
        "print(\"****************************************************************************************************************************************************\")\n",
        "print(\"****************************************************************************************************************************************************\")\n",
        "\n",
        "def sum_list(listanum):\n",
        "    suma = 0\n",
        "    for i in (listanum):\n",
        "        suma = suma + i\n",
        "    return suma\n",
        "\n",
        "#print(sum_list([]))\n",
        "print(f\"La suma de la primera fila es:\" , sum_list([1, 2, 1, 14, 29, 45, 5, 58, 56, 10, 29, 14, 88, 17, 4, 3, 1, 7, 12, 10]))\n",
        "\n",
        "print(f\"La suma de la segunda fila es:\", sum_list([2, 23, 5, 8, 44, 2, 2, 13, 5, 9, 10, 16, 98, 76, 47, 1, 1, 3, 2]))\n",
        "\n",
        "print(f\"La suma de la tercera fila es:\", sum_list([3, 87, 15, 11, 9, 7, 90, 97, 21, 3, 4, 1, 8, 88, 74, 32, 34, 43, 17, 77, 93]))\n",
        "\n",
        "print(f\"La suma de la cuarta fila es:\", sum_list([4, 46, 8, 1, 6, 2, 10, 37, 84, 4, 5, 9, 10, 2, 6 ,3, 1, 1, 1, 8, 4, 20, 33, 23, 18, 45]))\n",
        "\n",
        "print(f\"La suma de la quinta fila es:\", sum_list([55, 3, 2, 29, 58, 83, 9, 17, 1, 43, 20, 93, 31, 46, 43, 77, 8, 44, 45, 17, 62]))\n",
        "\n",
        "print(f\"La suma de la sexta fila es:\", sum_list([6, 74, 13, 44, 18, 45, 11, 93, 2, 1, 1, 1, 25, 1, 42, 18, 22, 44, 52]))\n",
        "\n",
        "print(f\"La suma de la septima fila es:\", sum_list([7, 88, 93, 6, 54, 2, 8, 1, 41, 86, 79, 33, 48, 9, 32, 63, 18, 7, 33, 2, 1, 16, 11, 7]))\n",
        "\n",
        "print(f\"La suma de la octava fila es:\", sum_list([8, 0, 22, 17, 30, 6, 2, 12, 47, 37, 34, 85, 47, 33, 2, 6, 8, 4, 5, 29, 30, 42, 77, 2]))\n",
        "\n",
        "print(f\"La suma de la novena fila es:\", sum_list([9, 2, 3, 4, 1, 1, 3, 6, 7, 7, 8, 9, 5, 1, 3, 4, 9, 10, 12, 3, 1, 5, 6, 22, 11, 0, 2]))\n",
        "\n",
        "print(f\"La suma de la decima fila es:\", sum_list([1, 0, 2, 55, 9, 3, 55, 23, 1, 6, 9, 4, 5, 3, 3, 2, 1, 3, 8, 1, 6, 10, 0, 1, 5, 1, 3]))\n",
        "\n",
        "print(f\"La suma total de las filas es:\", sum_list([406, 356, 814, 391, 786, 513, 745, 585, 154, 220]))\n",
        "\n",
        "\n",
        "f.close()"
      ],
      "execution_count": 47,
      "outputs": [
        {
          "output_type": "stream",
          "text": [
            "['\\ufeff1,2,', '1,', '14,', '29,45,5,', '58,56,', '10,', '29,', '14,', '88,', '17,4,3,1,7,', '12,', '10']\n",
            "[]\n",
            "[]\n",
            "['2,', '23,', '5,', '8,', '44,', '2,', '2,', '13,', '5,9,10,16,', '98,', '76,', '47,', '1,1,3,', '2']\n",
            "[]\n",
            "[]\n",
            "['3,', '87,', '15,11,9,', '7,90,97,', '21,3,4,1,', '8,', '88,', '74,', '32,', '34,', '43,', '17,', '77,', '93']\n",
            "[]\n",
            "[]\n",
            "['4,46,8,1,6,2,', '10,37,84,', '4,5,9,10,', '2,', '6', ',3,', '1,1', ',1,', '8,', '4,20,', '33,', '23,', '18,', '45']\n",
            "[]\n",
            "['55,', '3,', '2,', '29,', '58,', '83,9,', '17,', '1,', '43,', '20,', '93,', '31,', '46,43,', '77,', '8,44,45,', '17,', '62']\n",
            "[]\n",
            "[]\n",
            "['6,', '74,', '13,', '44,', '18,', '45,', '11,', '93,', '2,', '1,', '1', ',1,', '25,', '1,', '42,', '18,', '22,', '44,', '52']\n",
            "[]\n",
            "[]\n",
            "['7,', '88,', '93,', '6,', '54,', '2,', '8,', '1,', '41,', '86,', '79,', '33,', '48,9,', '32,', '63,18,7,', '33,2,1,', '16,11,', '7']\n",
            "[]\n",
            "[]\n",
            "['8,', '0,', '22,', '17,30,6,', '2,', '12,', '47,', '37,', '34,', '85,', '47,', '33,', '2,', '6,', '8,', '4,', '5,', '29,', '30,', '42,', '77,', '2']\n",
            "[]\n",
            "[]\n",
            "['9,', '2,3,4,', '1,1,', '3,6,', '7,7,8,', '9,', '5,', '1,', '3,', '4,', '9,', '10,', '12,', '3,', '1,', '5,', '6,', '22,11,', '0,', '2']\n",
            "[]\n",
            "[]\n",
            "['1,0,', '2,55,', '9,', '3,', '55,', '23,1,6,', '9,', '4,', '5,', '3,3,2,', '1,', '3,8,', '1,', '6,', '10,', '0,', '1,5,1,', '3']\n",
            "[]\n",
            "[]\n",
            "[]\n",
            "[]\n",
            "['Instrucciones:']\n",
            "['Con', 'base', 'al', 'archivo', 'adjunto', 'Datos.txt', 'con', 'programación', 'ralizar', 'lo', 'siguiente:']\n",
            "[]\n",
            "[]\n",
            "['1.-leer', 'el', 'archivo,', 'procesarlo,', 'quitar', 'los', 'espacios', 'y', 'sumar', 'los', 'números', 'por', 'renglón', '(mostrar', 'la', 'suma).']\n",
            "['2.-Mostrar', 'la', 'suma', 'total', 'de', 'todos', 'los', 'números', 'que', 'contiene', 'el', 'archivo', '(mostrar', 'la', 'suma).']\n",
            "****************************************************************************************************************************************************\n",
            "****************************************************************************************************************************************************\n",
            "La suma de la primera fila es: 406\n",
            "La suma de la segunda fila es: 367\n",
            "La suma de la tercera fila es: 814\n",
            "La suma de la cuarta fila es: 391\n",
            "La suma de la quinta fila es: 786\n",
            "La suma de la sexta fila es: 513\n",
            "La suma de la septima fila es: 745\n",
            "La suma de la octava fila es: 585\n",
            "La suma de la novena fila es: 154\n",
            "La suma de la decima fila es: 220\n",
            "La suma total de las filas es: 4970\n"
          ],
          "name": "stdout"
        }
      ]
    }
  ]
}