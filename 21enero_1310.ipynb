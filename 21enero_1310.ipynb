{
  "nbformat": 4,
  "nbformat_minor": 0,
  "metadata": {
    "colab": {
      "name": "21enero_1310.ipynb",
      "provenance": [],
      "authorship_tag": "ABX9TyM7ApQ1n1m5XMQMlxrl3Jw4",
      "include_colab_link": true
    },
    "kernelspec": {
      "name": "python3",
      "display_name": "Python 3"
    }
  },
  "cells": [
    {
      "cell_type": "markdown",
      "metadata": {
        "id": "view-in-github",
        "colab_type": "text"
      },
      "source": [
        "<a href=\"https://colab.research.google.com/github/Sadash33/edd_1310_2021/blob/master/21enero_1310.ipynb\" target=\"_parent\"><img src=\"https://colab.research.google.com/assets/colab-badge.svg\" alt=\"Open In Colab\"/></a>"
      ]
    },
    {
      "cell_type": "code",
      "metadata": {
        "id": "l6lQIJNJRbtK"
      },
      "source": [
        "class Nodoarbol:\r\n",
        "  def __init__(self, value, left = None, right = None):\r\n",
        "    self.data = value\r\n",
        "    self.left = left\r\n",
        "    self.right = right\r\n",
        "\r\n",
        "class BinarySearchTree:\r\n",
        "    def __init__(self):\r\n",
        "        self.__root = None\r\n",
        "\r\n",
        "    def insert(self, value):\r\n",
        "        #Regla 1\r\n",
        "        if self.__root == None:\r\n",
        "            self.__root = Nodoarbol(value, None, None)\r\n",
        "        #Regla 2\r\n",
        "        else:\r\n",
        "            self.__insert__(self.__root, value)\r\n",
        "\r\n",
        "    def __insert__(self, nodo, value):\r\n",
        "        if nodo.data == value:\r\n",
        "            print(\"El dato ya existe\")\r\n",
        "        elif value < nodo.data:\r\n",
        "            #Regla 1\r\n",
        "            if nodo.left == None:\r\n",
        "                nodo.left = Nodoarbol(value)\r\n",
        "            #Regla 2\r\n",
        "            else:\r\n",
        "                self.__insert__(nodo.left, value)\r\n",
        "        else:\r\n",
        "            if nodo.right == None:\r\n",
        "                nodo.right = Nodoarbol(value)\r\n",
        "            else:\r\n",
        "              self.__insert__(nodo.right, value)\r\n",
        "                \r\n",
        "    def __recorrido_in(self, nodo):\r\n",
        "        if nodo != None:\r\n",
        "            self.__recorrido_in(nodo.left)\r\n",
        "            print(nodo.data, end=\",\")\r\n",
        "            self.__recorrido_in(nodo.right)\r\n",
        "\r\n",
        "    def transversal(self, format = \"inorden\"):\r\n",
        "        if format == \"inorden\":\r\n",
        "            self.__recorrido_in(self.__root)\r\n",
        "        elif format == \"preorden\":\r\n",
        "            print(\"Recorrido en Pre\")\r\n",
        "        elif format == \"Postorden\":\r\n",
        "            print(\"Postorden\")\r\n",
        "        else:\r\n",
        "            print(\"Error, no existe el formato\")\r\n",
        "\r\n",
        "    def search(self, value):\r\n",
        "        if self.__root == None:\r\n",
        "            return None\r\n",
        "        else:\r\n",
        "            return self.__search(self.__root, value)\r\n",
        "\r\n",
        "    def __search(self, nodo, value):\r\n",
        "        if nodo == None:\r\n",
        "            print(\"Caso base\")\r\n",
        "            return None\r\n",
        "        elif nodo.data == value: #Caso base de recursividad\r\n",
        "            print(\"Encontrado\")\r\n",
        "            return nodo.data\r\n",
        "        elif value < nodo.data:\r\n",
        "            print(\"Buscar a la izquierda\")\r\n",
        "            self.__search(nodo.left, value)\r\n",
        "        else:\r\n",
        "            print(\"Buscar a la derecha\")\r\n",
        "            self.__search(nodo.right, value)\r\n",
        "\r\n",
        "    def remove(self, value):\r\n",
        "        encontrado = self.search(value)\r\n",
        "        #Caso 1\r\n",
        "        if encontrado.left == None and encontrado.right == None:\r\n",
        "            encontrado == None\r\n",
        "        #Caso 2\r\n",
        "    elif (encontrado.left != None and encontrado.right == None) or \\\r\n",
        "         (encontrado.left == None and encontrado.right != None):\r\n",
        "         print(\"A eliminar:\", encontrado.data)"
      ],
      "execution_count": null,
      "outputs": []
    }
  ]
}