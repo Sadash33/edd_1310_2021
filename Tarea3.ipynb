{
  "nbformat": 4,
  "nbformat_minor": 0,
  "metadata": {
    "colab": {
      "name": "Tarea3.ipynb",
      "provenance": [],
      "authorship_tag": "ABX9TyPLa5+nNT6iKqmZet8g6keY",
      "include_colab_link": true
    },
    "kernelspec": {
      "name": "python3",
      "display_name": "Python 3"
    }
  },
  "cells": [
    {
      "cell_type": "markdown",
      "metadata": {
        "id": "view-in-github",
        "colab_type": "text"
      },
      "source": [
        "<a href=\"https://colab.research.google.com/github/Sadash33/edd_1310_2021/blob/master/Tarea3.ipynb\" target=\"_parent\"><img src=\"https://colab.research.google.com/assets/colab-badge.svg\" alt=\"Open In Colab\"/></a>"
      ]
    },
    {
      "cell_type": "code",
      "metadata": {
        "id": "FPT50Pv-Zl56",
        "outputId": "55dfe159-2bb6-4dfa-c554-6eba4c8db473",
        "colab": {
          "base_uri": "https://localhost:8080/",
          "height": 68
        }
      },
      "source": [
        "class Persona:\n",
        "  def __init__(self, nom, ed, est):\n",
        "     self.nombre = nom\n",
        "     self.edad = ed\n",
        "     self.estatura = est\n",
        "     print(f\"Mi nombre es {nom}, tengo {ed} años y mido {est}\")\n",
        " \n",
        "\n",
        "  def dormir(self):\n",
        "       print(\"ZzZzZzZzZ\")\n",
        "      \n",
        "\n",
        "  def comer(self):\n",
        "       print(\"Nom nom\")\n",
        "      \n",
        "\n",
        "humano = Persona(\"Axel\", \"20\", \"1.70cm\")\n",
        "humano.dormir()\n",
        "humano.comer()\n"
      ],
      "execution_count": 19,
      "outputs": [
        {
          "output_type": "stream",
          "text": [
            "Mi nombre es Axel, tengo 20 años y mido 1.70cm\n",
            "ZzZzZzZzZ\n",
            "Nom nom\n"
          ],
          "name": "stdout"
        }
      ]
    },
    {
      "cell_type": "code",
      "metadata": {
        "id": "3hgDmny_mq4t",
        "outputId": "d002dd1b-bb9d-4e2d-8bc9-47955a221632",
        "colab": {
          "base_uri": "https://localhost:8080/",
          "height": 68
        }
      },
      "source": [
        "class Celular:\n",
        "  def __init__(self, mar, mod, mem):\n",
        "    self.marca = mar\n",
        "    self.modelo = mod\n",
        "    self.memoria = mem\n",
        "    print(f\"Especificaciones: Marca: {mar} Modelo: {mod} Espacio de almacenamiento: {mem}\")\n",
        "\n",
        "  def llamar(self):\n",
        "    print(\"Llamando a Mamá\")\n",
        "\n",
        "\n",
        "  def alarma(self):\n",
        "    print(\"La alarma sonará en 8 horas y 57 minutos.\")\n",
        "\n",
        "\n",
        "telefono = Celular(\"Motorola\", \"Moto G7 Power\", \"64GB\")\n",
        "telefono.llamar()\n",
        "telefono.alarma()"
      ],
      "execution_count": 22,
      "outputs": [
        {
          "output_type": "stream",
          "text": [
            "Especificaciones: Marca: Motorola Modelo: Moto G7 Power Espacio de almacenamiento: 64GB\n",
            "Llamando a Mamá\n",
            "La alarma sonará en 8 horas y 57 minutos.\n"
          ],
          "name": "stdout"
        }
      ]
    }
  ]
}